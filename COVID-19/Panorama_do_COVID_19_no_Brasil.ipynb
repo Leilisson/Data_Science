{
  "nbformat": 4,
  "nbformat_minor": 0,
  "metadata": {
    "colab": {
      "name": "Panorama do COVID-19 no Brasil.ipynb",
      "provenance": [],
      "collapsed_sections": []
    },
    "kernelspec": {
      "name": "python3",
      "display_name": "Python 3"
    }
  },
  "cells": [
    {
      "cell_type": "markdown",
      "metadata": {
        "id": "-eFQZydM9O9J",
        "colab_type": "text"
      },
      "source": [
        "<img alt=\"Colaboratory logo\" width=\"15%\" src=\"https://raw.githubusercontent.com/carlosfab/escola-data-science/master/img/novo_logo_bg_claro.png\">\n",
        "\n",
        "#### **Data Science na Prática 2.0**\n",
        "*by [sigmoidal.ai](https://sigmoidal.ai)*  \n",
        "\n",
        "---\n",
        "  "
      ]
    },
    {
      "cell_type": "markdown",
      "metadata": {
        "id": "kLI0gJtzDGuQ",
        "colab_type": "text"
      },
      "source": [
        "# Panorama do COVID-19 no Brasil e no Mundo\n",
        "\n",
        "\n",
        "COVID-19 é uma doença infecciosa causada por recém-descoberto coronavírus (sars-cov-2).\n",
        "\n",
        "Transmitido principalmente por meio de gotículas provenientes de tosses ou espirros de indivíduos infectados, a gravidade dos sintomas é muito varaiada e existindo ainda indivíduos assintomáticos.\n",
        "\n",
        "Fato é, não se tem uma panorama perfeito a respeito do COVID-19. Estudos estão sendo realizados no mundo todo, porém os resultados ainda não são conclusivos e definitivos.\n",
        "\n",
        "<center><img alt=\"Colaboratory logo\" width=\"50%\" src=\"https://raw.githubusercontent.com/carlosfab/dsnp2/master/img/covid19.jpg\"></center>\n",
        "\n",
        "Até o presente momento, observa-se que cerca de 80% dos casos confirmados são assintomáticos e rápidos. A maioria das pessoas que se encaixam nesse grupo, se recupera sem nenhuma sequela.\n",
        "\n",
        "No entanto, 15% das pessoas terão infecções graves e precisarão de oxigênio. O restante das pessoas, que representam 5%, serão classificadas como infecções muito graves e precisarão de ventilação assistida, por meio de respiradores mecânicos em ambiente hospitalar.\n",
        "\n",
        "Com o objetivo de elevar a consciência situacional a respeito do COVID-19 no Brasil, iremos realizar uma análise sobre os dados públicos da doença."
      ]
    },
    {
      "cell_type": "markdown",
      "metadata": {
        "id": "0zxQHhIUDF_2",
        "colab_type": "text"
      },
      "source": [
        "## Obtenção dos Dados\n",
        "\n",
        "Os dados para essa análise são do site [**Our Wolrd in Data**](https://https://ourworldindata.org/) e froam retirados do [seu repositório no GitHub](https://github.com/owid/covid-19-data).\n",
        "\n",
        "*Our World Data* é uma iniciativa entre pesquisadores da Universidade de Oxford na Ingalterra e da organizção sem fins lucrativos [Global Change Data Lab](https://global-change-data-lab.org/).\n",
        "\n",
        "Analisar uma doença até então desconhceida pela humanidade não é uma tarefa simples. Os dados disponíveis podem não ser condizentes com a realidade seja por uma política ruim de divulgação de dados pelos governos ou pela incapacidade de alguns países fazer a testagem em massa.\n",
        "\n",
        "No Brasil, por exemplo, não é feito testes em massa e existem divergências entre os dados disponibilizados pelas Secretarias Estaduais de Saúde e o Ministério da Saúde. \n",
        "\n"
      ]
    },
    {
      "cell_type": "markdown",
      "metadata": {
        "id": "6U3DmTJ_H_F7",
        "colab_type": "text"
      },
      "source": [
        "\n",
        "### Dicionário de Variáveis\n",
        "Coluna|Descrição|Fonte\n",
        "------|-----------|------\n",
        "`iso_code`|ISO 3166-1 alpha-3 – Código por país|International Organization for Standardization\n",
        "`continent`|Continente da localização geográfica|Our World in Data\n",
        "`location`|Localização geográfica|Our World in Data\n",
        "`date`|Data da Observação|Our World in Data\n",
        "`total_cases`|Total de casos confirmados|European Centre for Disease Prevention and Control\n",
        "`new_cases`|Novos casos confirmados|European Centre for Disease Prevention and Control\n",
        "`total_deaths`|Total de mortes|European Centre for Disease Prevention and Control\n",
        "`new_deaths`|Novas mortes|European Centre for Disease Prevention and Control\n",
        "`total_cases_per_million`|Totalde casos confirmaods por milhão|European Centre for Disease Prevention and Control\n",
        "`new_cases_per_million`|Novos casos confirmados por milhão|European Centre for Disease Prevention and Control\n",
        "`total_deaths_per_million`|Total de mortes por milhão|European Centre for Disease Prevention and Control\n",
        "`new_deaths_per_million`|Novas mortes por milhão|European Centre for Disease Prevention and Control\n",
        "`total_tests`|Total de testes para COVID-19|National government reports\n",
        "`new_tests`|Novos testes para COVID-19|National government reports\n",
        "`new_tests_smoothed`|Novos testes para COVID-19 (7-dias smoothed). Para países que não relatam dados de teste diariamente, assumimos que o teste mudou igualmente diariamente em qualquer período em que nenhum dado foi relatado. Isso produz uma série completa de números diários, que são calculados em média em uma janela de 7 dias consecutivos|National government reports\n",
        "`total_tests_per_thousand`|Total de teste por mil|National government reports\n",
        "`new_tests_per_thousand`|Novos testes por mil |National government reports\n",
        "`new_tests_smoothed_per_thousand`|Novos testes para COVID-19 (7-dias smoothed) por mil|National government reports\n",
        "`tests_units`|Unidades usadas pelo local para relatar seus dados de teste|National government reports\n",
        "`stringency_index`|Índice de Rigor da Resposta do Governo: medida composta baseada em 9 indicadores de resposta, incluindo fechamento de escolas, fechamento de locais de trabalho e proibições de viagens, redimensionados para um valor de 0 a 100 (100 = resposta mais rigorosa)|Oxford COVID-19 Government Response Tracker, Blavatnik School of Government\n",
        "`population`|População em 2020|United Nations, Department of Economic and Social Affairs, Population Division, World Population Prospects: The 2019 Revision\n",
        "`population_density`|Número de pessoas divididas por área terrestre, medida em quilômetros quadrados, último ano disponível|World Bank – World Development Indicators, sourced from Food and Agriculture Organization and World Bank estimates\n",
        "`median_age`|Idade média da população, projeção da ONU para 2020|UN Population Division, World Population Prospects, 2017 Revision\n",
        "`aged_65_older`|Proporção da população com 65 anos ou mais, ano mais recente disponível|World Bank – World Development Indicators, based on age/sex distributions of United Nations Population Division's World Population Prospects: 2017 Revision\n",
        "`aged_70_older`|Percentagem da população com 70 anos ou mais em 2015|United Nations, Department of Economic and Social Affairs, Population Division (2017), World Population Prospects: The 2017 Revision\n",
        "`gdp_per_capita`|Produto interno bruto comparado ao poder de compra (dólares internacionais constantes de 2011), último ano disponível|World Bank – World Development Indicators, source from World Bank, International Comparison Program database\n",
        "`extreme_poverty`|Percentagem da população que vive em extrema pobreza, último ano disponível desde 2010|World Bank – World Development Indicators, sourced from World Bank Development Research Group\n",
        "`cvd_death_rate`|Taxa de doenças cardiovasculares em 2017|Global Burden of Disease Collaborative Network, Global Burden of Disease Study 2017 Results\n",
        "`diabetes_prevalence`|Prevalencia de Diabetes (% Da população entre 20 to 79) em 2017|World Bank – World Development Indicators, sourced from International Diabetes Federation, Diabetes Atlas\n",
        "`female_smokers`|Percentagem de mulheres fumantes, ano mais rescente disponível|World Bank – World Development Indicators, sourced from World Health Organization, Global Health Observatory Data Repository\n",
        "`male_smokers`|Percentagem de homens fumantes, ano mais recente dispónível|World Bank – World Development Indicators, sourced from World Health Organization, Global Health Observatory Data Repository\n",
        "`handwashing_facilities`|Percentagem da população com instalações básicas de lavagem das mãos nas instalações, ano mais recente disponível|United Nations Statistics Division\n",
        "`hospital_beds_per_thousand`|Leitos de hospitais por mil, ano mias recente disponível desde 2010|OECD, Eurostat, World Bank, national government records and other sources\n",
        "`life_expectancy`|Expectativa de vida no nascimento em 2019|James C. Riley, Clio Infra, United Nations Population Division\n",
        "\n",
        "*A descrição original (em inglês) do nome de cada coluna pode ser encontrada [neste link](https://github.com/owid/covid-19-data/blob/master/public/data/owid-covid-data-codebook.md).*\n",
        "\n"
      ]
    },
    {
      "cell_type": "markdown",
      "metadata": {
        "id": "F8phrw0SIMzS",
        "colab_type": "text"
      },
      "source": [
        "### Importando os dados do COVID-19\n",
        "\n",
        "* Vamos importar os dados disponibilizados."
      ]
    },
    {
      "cell_type": "code",
      "metadata": {
        "id": "lOtEJxe0DMEb",
        "colab_type": "code",
        "colab": {}
      },
      "source": [
        "# importar as bibliotecas necessárias\n",
        "import pandas as pd\n",
        "import matplotlib.pyplot as plt\n",
        "import numpy as np\n",
        "from datetime import date \n",
        "import seaborn as sns;\n",
        "sns.set_style()\n",
        "\n",
        "# importar o dataset COVID-19 para um DataFrame\n",
        "path = 'https://covid.ourworldindata.org/data/owid-covid-data.csv'\n",
        "\n",
        "df = pd.read_csv(path)"
      ],
      "execution_count": null,
      "outputs": []
    },
    {
      "cell_type": "markdown",
      "metadata": {
        "id": "__TfiNtiPPA6",
        "colab_type": "text"
      },
      "source": [
        "Vamos visualisar as primeiras 5 entradas do nosso *dataset*."
      ]
    },
    {
      "cell_type": "code",
      "metadata": {
        "id": "gO1fv3D1PS4k",
        "colab_type": "code",
        "colab": {
          "base_uri": "https://localhost:8080/",
          "height": 301
        },
        "outputId": "d8f77d7f-f7d6-4426-ee9a-74a922d5b9f7"
      },
      "source": [
        "df.head()"
      ],
      "execution_count": null,
      "outputs": [
        {
          "output_type": "execute_result",
          "data": {
            "text/html": [
              "<div>\n",
              "<style scoped>\n",
              "    .dataframe tbody tr th:only-of-type {\n",
              "        vertical-align: middle;\n",
              "    }\n",
              "\n",
              "    .dataframe tbody tr th {\n",
              "        vertical-align: top;\n",
              "    }\n",
              "\n",
              "    .dataframe thead th {\n",
              "        text-align: right;\n",
              "    }\n",
              "</style>\n",
              "<table border=\"1\" class=\"dataframe\">\n",
              "  <thead>\n",
              "    <tr style=\"text-align: right;\">\n",
              "      <th></th>\n",
              "      <th>iso_code</th>\n",
              "      <th>continent</th>\n",
              "      <th>location</th>\n",
              "      <th>date</th>\n",
              "      <th>total_cases</th>\n",
              "      <th>new_cases</th>\n",
              "      <th>total_deaths</th>\n",
              "      <th>new_deaths</th>\n",
              "      <th>total_cases_per_million</th>\n",
              "      <th>new_cases_per_million</th>\n",
              "      <th>total_deaths_per_million</th>\n",
              "      <th>new_deaths_per_million</th>\n",
              "      <th>total_tests</th>\n",
              "      <th>new_tests</th>\n",
              "      <th>total_tests_per_thousand</th>\n",
              "      <th>new_tests_per_thousand</th>\n",
              "      <th>new_tests_smoothed</th>\n",
              "      <th>new_tests_smoothed_per_thousand</th>\n",
              "      <th>tests_units</th>\n",
              "      <th>stringency_index</th>\n",
              "      <th>population</th>\n",
              "      <th>population_density</th>\n",
              "      <th>median_age</th>\n",
              "      <th>aged_65_older</th>\n",
              "      <th>aged_70_older</th>\n",
              "      <th>gdp_per_capita</th>\n",
              "      <th>extreme_poverty</th>\n",
              "      <th>cvd_death_rate</th>\n",
              "      <th>diabetes_prevalence</th>\n",
              "      <th>female_smokers</th>\n",
              "      <th>male_smokers</th>\n",
              "      <th>handwashing_facilities</th>\n",
              "      <th>hospital_beds_per_thousand</th>\n",
              "      <th>life_expectancy</th>\n",
              "    </tr>\n",
              "  </thead>\n",
              "  <tbody>\n",
              "    <tr>\n",
              "      <th>0</th>\n",
              "      <td>AFG</td>\n",
              "      <td>Asia</td>\n",
              "      <td>Afghanistan</td>\n",
              "      <td>2019-12-31</td>\n",
              "      <td>0.0</td>\n",
              "      <td>0.0</td>\n",
              "      <td>0.0</td>\n",
              "      <td>0.0</td>\n",
              "      <td>0.0</td>\n",
              "      <td>0.0</td>\n",
              "      <td>0.0</td>\n",
              "      <td>0.0</td>\n",
              "      <td>NaN</td>\n",
              "      <td>NaN</td>\n",
              "      <td>NaN</td>\n",
              "      <td>NaN</td>\n",
              "      <td>NaN</td>\n",
              "      <td>NaN</td>\n",
              "      <td>NaN</td>\n",
              "      <td>NaN</td>\n",
              "      <td>38928341.0</td>\n",
              "      <td>54.422</td>\n",
              "      <td>18.6</td>\n",
              "      <td>2.581</td>\n",
              "      <td>1.337</td>\n",
              "      <td>1803.987</td>\n",
              "      <td>NaN</td>\n",
              "      <td>597.029</td>\n",
              "      <td>9.59</td>\n",
              "      <td>NaN</td>\n",
              "      <td>NaN</td>\n",
              "      <td>37.746</td>\n",
              "      <td>0.5</td>\n",
              "      <td>64.83</td>\n",
              "    </tr>\n",
              "    <tr>\n",
              "      <th>1</th>\n",
              "      <td>AFG</td>\n",
              "      <td>Asia</td>\n",
              "      <td>Afghanistan</td>\n",
              "      <td>2020-01-01</td>\n",
              "      <td>0.0</td>\n",
              "      <td>0.0</td>\n",
              "      <td>0.0</td>\n",
              "      <td>0.0</td>\n",
              "      <td>0.0</td>\n",
              "      <td>0.0</td>\n",
              "      <td>0.0</td>\n",
              "      <td>0.0</td>\n",
              "      <td>NaN</td>\n",
              "      <td>NaN</td>\n",
              "      <td>NaN</td>\n",
              "      <td>NaN</td>\n",
              "      <td>NaN</td>\n",
              "      <td>NaN</td>\n",
              "      <td>NaN</td>\n",
              "      <td>0.0</td>\n",
              "      <td>38928341.0</td>\n",
              "      <td>54.422</td>\n",
              "      <td>18.6</td>\n",
              "      <td>2.581</td>\n",
              "      <td>1.337</td>\n",
              "      <td>1803.987</td>\n",
              "      <td>NaN</td>\n",
              "      <td>597.029</td>\n",
              "      <td>9.59</td>\n",
              "      <td>NaN</td>\n",
              "      <td>NaN</td>\n",
              "      <td>37.746</td>\n",
              "      <td>0.5</td>\n",
              "      <td>64.83</td>\n",
              "    </tr>\n",
              "    <tr>\n",
              "      <th>2</th>\n",
              "      <td>AFG</td>\n",
              "      <td>Asia</td>\n",
              "      <td>Afghanistan</td>\n",
              "      <td>2020-01-02</td>\n",
              "      <td>0.0</td>\n",
              "      <td>0.0</td>\n",
              "      <td>0.0</td>\n",
              "      <td>0.0</td>\n",
              "      <td>0.0</td>\n",
              "      <td>0.0</td>\n",
              "      <td>0.0</td>\n",
              "      <td>0.0</td>\n",
              "      <td>NaN</td>\n",
              "      <td>NaN</td>\n",
              "      <td>NaN</td>\n",
              "      <td>NaN</td>\n",
              "      <td>NaN</td>\n",
              "      <td>NaN</td>\n",
              "      <td>NaN</td>\n",
              "      <td>0.0</td>\n",
              "      <td>38928341.0</td>\n",
              "      <td>54.422</td>\n",
              "      <td>18.6</td>\n",
              "      <td>2.581</td>\n",
              "      <td>1.337</td>\n",
              "      <td>1803.987</td>\n",
              "      <td>NaN</td>\n",
              "      <td>597.029</td>\n",
              "      <td>9.59</td>\n",
              "      <td>NaN</td>\n",
              "      <td>NaN</td>\n",
              "      <td>37.746</td>\n",
              "      <td>0.5</td>\n",
              "      <td>64.83</td>\n",
              "    </tr>\n",
              "    <tr>\n",
              "      <th>3</th>\n",
              "      <td>AFG</td>\n",
              "      <td>Asia</td>\n",
              "      <td>Afghanistan</td>\n",
              "      <td>2020-01-03</td>\n",
              "      <td>0.0</td>\n",
              "      <td>0.0</td>\n",
              "      <td>0.0</td>\n",
              "      <td>0.0</td>\n",
              "      <td>0.0</td>\n",
              "      <td>0.0</td>\n",
              "      <td>0.0</td>\n",
              "      <td>0.0</td>\n",
              "      <td>NaN</td>\n",
              "      <td>NaN</td>\n",
              "      <td>NaN</td>\n",
              "      <td>NaN</td>\n",
              "      <td>NaN</td>\n",
              "      <td>NaN</td>\n",
              "      <td>NaN</td>\n",
              "      <td>0.0</td>\n",
              "      <td>38928341.0</td>\n",
              "      <td>54.422</td>\n",
              "      <td>18.6</td>\n",
              "      <td>2.581</td>\n",
              "      <td>1.337</td>\n",
              "      <td>1803.987</td>\n",
              "      <td>NaN</td>\n",
              "      <td>597.029</td>\n",
              "      <td>9.59</td>\n",
              "      <td>NaN</td>\n",
              "      <td>NaN</td>\n",
              "      <td>37.746</td>\n",
              "      <td>0.5</td>\n",
              "      <td>64.83</td>\n",
              "    </tr>\n",
              "    <tr>\n",
              "      <th>4</th>\n",
              "      <td>AFG</td>\n",
              "      <td>Asia</td>\n",
              "      <td>Afghanistan</td>\n",
              "      <td>2020-01-04</td>\n",
              "      <td>0.0</td>\n",
              "      <td>0.0</td>\n",
              "      <td>0.0</td>\n",
              "      <td>0.0</td>\n",
              "      <td>0.0</td>\n",
              "      <td>0.0</td>\n",
              "      <td>0.0</td>\n",
              "      <td>0.0</td>\n",
              "      <td>NaN</td>\n",
              "      <td>NaN</td>\n",
              "      <td>NaN</td>\n",
              "      <td>NaN</td>\n",
              "      <td>NaN</td>\n",
              "      <td>NaN</td>\n",
              "      <td>NaN</td>\n",
              "      <td>0.0</td>\n",
              "      <td>38928341.0</td>\n",
              "      <td>54.422</td>\n",
              "      <td>18.6</td>\n",
              "      <td>2.581</td>\n",
              "      <td>1.337</td>\n",
              "      <td>1803.987</td>\n",
              "      <td>NaN</td>\n",
              "      <td>597.029</td>\n",
              "      <td>9.59</td>\n",
              "      <td>NaN</td>\n",
              "      <td>NaN</td>\n",
              "      <td>37.746</td>\n",
              "      <td>0.5</td>\n",
              "      <td>64.83</td>\n",
              "    </tr>\n",
              "  </tbody>\n",
              "</table>\n",
              "</div>"
            ],
            "text/plain": [
              "  iso_code continent  ... hospital_beds_per_thousand life_expectancy\n",
              "0      AFG      Asia  ...                        0.5           64.83\n",
              "1      AFG      Asia  ...                        0.5           64.83\n",
              "2      AFG      Asia  ...                        0.5           64.83\n",
              "3      AFG      Asia  ...                        0.5           64.83\n",
              "4      AFG      Asia  ...                        0.5           64.83\n",
              "\n",
              "[5 rows x 34 columns]"
            ]
          },
          "metadata": {
            "tags": []
          },
          "execution_count": 147
        }
      ]
    },
    {
      "cell_type": "markdown",
      "metadata": {
        "id": "Zpvtf1RgoFWQ",
        "colab_type": "text"
      },
      "source": [
        "Vamos verificar agora o tamanho do nossa *dataset* e o nome de todos os atributos."
      ]
    },
    {
      "cell_type": "code",
      "metadata": {
        "id": "13ldqtFpoUG8",
        "colab_type": "code",
        "colab": {
          "base_uri": "https://localhost:8080/",
          "height": 283
        },
        "outputId": "af91fe9c-f078-42b2-c753-c25711b255b2"
      },
      "source": [
        "print(\"Número de linhas: {}\\n\".format(df.shape[0])+ \"Número de colunas: {}\\n\".format(df.shape[1]))\n",
        "\n",
        "df.columns #Nome das colunas"
      ],
      "execution_count": null,
      "outputs": [
        {
          "output_type": "stream",
          "text": [
            "Número de linhas: 26749\n",
            "Número de colunas: 34\n",
            "\n"
          ],
          "name": "stdout"
        },
        {
          "output_type": "execute_result",
          "data": {
            "text/plain": [
              "Index(['iso_code', 'continent', 'location', 'date', 'total_cases', 'new_cases',\n",
              "       'total_deaths', 'new_deaths', 'total_cases_per_million',\n",
              "       'new_cases_per_million', 'total_deaths_per_million',\n",
              "       'new_deaths_per_million', 'total_tests', 'new_tests',\n",
              "       'total_tests_per_thousand', 'new_tests_per_thousand',\n",
              "       'new_tests_smoothed', 'new_tests_smoothed_per_thousand', 'tests_units',\n",
              "       'stringency_index', 'population', 'population_density', 'median_age',\n",
              "       'aged_65_older', 'aged_70_older', 'gdp_per_capita', 'extreme_poverty',\n",
              "       'cvd_death_rate', 'diabetes_prevalence', 'female_smokers',\n",
              "       'male_smokers', 'handwashing_facilities', 'hospital_beds_per_thousand',\n",
              "       'life_expectancy'],\n",
              "      dtype='object')"
            ]
          },
          "metadata": {
            "tags": []
          },
          "execution_count": 148
        }
      ]
    },
    {
      "cell_type": "markdown",
      "metadata": {
        "id": "zKAlteSdpNI8",
        "colab_type": "text"
      },
      "source": [
        "Agora o próximo passo é verificar o tipo de cada atributo presente em nossos *dataset*."
      ]
    },
    {
      "cell_type": "code",
      "metadata": {
        "id": "RF90g9BZpV1Y",
        "colab_type": "code",
        "colab": {
          "base_uri": "https://localhost:8080/",
          "height": 638
        },
        "outputId": "8a939252-27de-4d5c-8321-7d36e7d31168"
      },
      "source": [
        "df.dtypes"
      ],
      "execution_count": null,
      "outputs": [
        {
          "output_type": "execute_result",
          "data": {
            "text/plain": [
              "iso_code                            object\n",
              "continent                           object\n",
              "location                            object\n",
              "date                                object\n",
              "total_cases                        float64\n",
              "new_cases                          float64\n",
              "total_deaths                       float64\n",
              "new_deaths                         float64\n",
              "total_cases_per_million            float64\n",
              "new_cases_per_million              float64\n",
              "total_deaths_per_million           float64\n",
              "new_deaths_per_million             float64\n",
              "total_tests                        float64\n",
              "new_tests                          float64\n",
              "total_tests_per_thousand           float64\n",
              "new_tests_per_thousand             float64\n",
              "new_tests_smoothed                 float64\n",
              "new_tests_smoothed_per_thousand    float64\n",
              "tests_units                         object\n",
              "stringency_index                   float64\n",
              "population                         float64\n",
              "population_density                 float64\n",
              "median_age                         float64\n",
              "aged_65_older                      float64\n",
              "aged_70_older                      float64\n",
              "gdp_per_capita                     float64\n",
              "extreme_poverty                    float64\n",
              "cvd_death_rate                     float64\n",
              "diabetes_prevalence                float64\n",
              "female_smokers                     float64\n",
              "male_smokers                       float64\n",
              "handwashing_facilities             float64\n",
              "hospital_beds_per_thousand         float64\n",
              "life_expectancy                    float64\n",
              "dtype: object"
            ]
          },
          "metadata": {
            "tags": []
          },
          "execution_count": 149
        }
      ]
    },
    {
      "cell_type": "markdown",
      "metadata": {
        "id": "GBFIM8flqsrs",
        "colab_type": "text"
      },
      "source": [
        "Outro detalhe importante é a verificação em relação aos dados ausentes. Vamos descobrir a porcentagem de valores ausentes em cada coluna. \n",
        "\n",
        "É importante lembrar que antes de tratar dados ausentes é preciso tentar entender o motivo dessa ausência. "
      ]
    },
    {
      "cell_type": "code",
      "metadata": {
        "id": "GGs8ZlVQq_2b",
        "colab_type": "code",
        "colab": {
          "base_uri": "https://localhost:8080/",
          "height": 638
        },
        "outputId": "e249e34e-f92c-4aaa-faa7-401d58ed9b48"
      },
      "source": [
        "(df.isnull().sum() / df.shape[0]).sort_values(ascending=False) #verificando porcentegem de dados ausentes 0..1"
      ],
      "execution_count": null,
      "outputs": [
        {
          "output_type": "execute_result",
          "data": {
            "text/plain": [
              "new_tests                          0.738383\n",
              "new_tests_per_thousand             0.738383\n",
              "total_tests_per_thousand           0.712924\n",
              "total_tests                        0.712924\n",
              "new_tests_smoothed_per_thousand    0.689596\n",
              "new_tests_smoothed                 0.689596\n",
              "tests_units                        0.666455\n",
              "handwashing_facilities             0.592433\n",
              "extreme_poverty                    0.403080\n",
              "male_smokers                       0.283637\n",
              "female_smokers                     0.275263\n",
              "stringency_index                   0.198138\n",
              "hospital_beds_per_thousand         0.173128\n",
              "aged_65_older                      0.109350\n",
              "gdp_per_capita                     0.106808\n",
              "aged_70_older                      0.101200\n",
              "median_age                         0.096564\n",
              "cvd_death_rate                     0.095443\n",
              "diabetes_prevalence                0.066133\n",
              "population_density                 0.043553\n",
              "life_expectancy                    0.013870\n",
              "new_deaths_per_million             0.010430\n",
              "total_deaths_per_million           0.010430\n",
              "new_cases_per_million              0.010430\n",
              "total_cases_per_million            0.010430\n",
              "continent                          0.009159\n",
              "new_deaths                         0.008038\n",
              "total_deaths                       0.008038\n",
              "new_cases                          0.008038\n",
              "total_cases                        0.008038\n",
              "population                         0.002393\n",
              "iso_code                           0.002393\n",
              "date                               0.000000\n",
              "location                           0.000000\n",
              "dtype: float64"
            ]
          },
          "metadata": {
            "tags": []
          },
          "execution_count": 150
        }
      ]
    },
    {
      "cell_type": "markdown",
      "metadata": {
        "id": "6uzDPaPLs3Pf",
        "colab_type": "text"
      },
      "source": [
        "Para facilitar nossa análise vamos transformar o tipo dedados da nossa coluna **date** de string para datetime. "
      ]
    },
    {
      "cell_type": "code",
      "metadata": {
        "id": "0ZHcTKlqtCc3",
        "colab_type": "code",
        "colab": {}
      },
      "source": [
        "df.date = pd.to_datetime(df.date)\n"
      ],
      "execution_count": null,
      "outputs": []
    },
    {
      "cell_type": "markdown",
      "metadata": {
        "id": "WEEyLuP3uFTk",
        "colab_type": "text"
      },
      "source": [
        "Vamos verificar quais 5 países com maior número total de casos e de mortes na data atual.\n"
      ]
    },
    {
      "cell_type": "code",
      "metadata": {
        "id": "tIJNLjI_uOkj",
        "colab_type": "code",
        "colab": {
          "base_uri": "https://localhost:8080/",
          "height": 347
        },
        "outputId": "aa9a732b-a5be-4a12-c88e-126e4d4df307"
      },
      "source": [
        "df.loc[df.date == str(date.today())].sort_values(by='total_cases', ascending=False)[0:6]\n"
      ],
      "execution_count": null,
      "outputs": [
        {
          "output_type": "execute_result",
          "data": {
            "text/html": [
              "<div>\n",
              "<style scoped>\n",
              "    .dataframe tbody tr th:only-of-type {\n",
              "        vertical-align: middle;\n",
              "    }\n",
              "\n",
              "    .dataframe tbody tr th {\n",
              "        vertical-align: top;\n",
              "    }\n",
              "\n",
              "    .dataframe thead th {\n",
              "        text-align: right;\n",
              "    }\n",
              "</style>\n",
              "<table border=\"1\" class=\"dataframe\">\n",
              "  <thead>\n",
              "    <tr style=\"text-align: right;\">\n",
              "      <th></th>\n",
              "      <th>iso_code</th>\n",
              "      <th>continent</th>\n",
              "      <th>location</th>\n",
              "      <th>date</th>\n",
              "      <th>total_cases</th>\n",
              "      <th>new_cases</th>\n",
              "      <th>total_deaths</th>\n",
              "      <th>new_deaths</th>\n",
              "      <th>total_cases_per_million</th>\n",
              "      <th>new_cases_per_million</th>\n",
              "      <th>total_deaths_per_million</th>\n",
              "      <th>new_deaths_per_million</th>\n",
              "      <th>total_tests</th>\n",
              "      <th>new_tests</th>\n",
              "      <th>total_tests_per_thousand</th>\n",
              "      <th>new_tests_per_thousand</th>\n",
              "      <th>new_tests_smoothed</th>\n",
              "      <th>new_tests_smoothed_per_thousand</th>\n",
              "      <th>tests_units</th>\n",
              "      <th>stringency_index</th>\n",
              "      <th>population</th>\n",
              "      <th>population_density</th>\n",
              "      <th>median_age</th>\n",
              "      <th>aged_65_older</th>\n",
              "      <th>aged_70_older</th>\n",
              "      <th>gdp_per_capita</th>\n",
              "      <th>extreme_poverty</th>\n",
              "      <th>cvd_death_rate</th>\n",
              "      <th>diabetes_prevalence</th>\n",
              "      <th>female_smokers</th>\n",
              "      <th>male_smokers</th>\n",
              "      <th>handwashing_facilities</th>\n",
              "      <th>hospital_beds_per_thousand</th>\n",
              "      <th>life_expectancy</th>\n",
              "    </tr>\n",
              "  </thead>\n",
              "  <tbody>\n",
              "    <tr>\n",
              "      <th>26684</th>\n",
              "      <td>OWID_WRL</td>\n",
              "      <td>NaN</td>\n",
              "      <td>World</td>\n",
              "      <td>2020-06-28</td>\n",
              "      <td>9952507.0</td>\n",
              "      <td>180989.0</td>\n",
              "      <td>498519.0</td>\n",
              "      <td>4623.0</td>\n",
              "      <td>1276.814</td>\n",
              "      <td>23.219</td>\n",
              "      <td>63.955</td>\n",
              "      <td>0.593</td>\n",
              "      <td>NaN</td>\n",
              "      <td>NaN</td>\n",
              "      <td>NaN</td>\n",
              "      <td>NaN</td>\n",
              "      <td>NaN</td>\n",
              "      <td>NaN</td>\n",
              "      <td>NaN</td>\n",
              "      <td>NaN</td>\n",
              "      <td>7.794799e+09</td>\n",
              "      <td>58.045</td>\n",
              "      <td>30.9</td>\n",
              "      <td>8.696</td>\n",
              "      <td>5.355</td>\n",
              "      <td>15469.207</td>\n",
              "      <td>10.0</td>\n",
              "      <td>233.070</td>\n",
              "      <td>8.51</td>\n",
              "      <td>6.434</td>\n",
              "      <td>34.635</td>\n",
              "      <td>60.13</td>\n",
              "      <td>2.705</td>\n",
              "      <td>72.58</td>\n",
              "    </tr>\n",
              "    <tr>\n",
              "      <th>25458</th>\n",
              "      <td>USA</td>\n",
              "      <td>North America</td>\n",
              "      <td>United States</td>\n",
              "      <td>2020-06-28</td>\n",
              "      <td>2510323.0</td>\n",
              "      <td>42486.0</td>\n",
              "      <td>125539.0</td>\n",
              "      <td>500.0</td>\n",
              "      <td>7583.997</td>\n",
              "      <td>128.355</td>\n",
              "      <td>379.269</td>\n",
              "      <td>1.511</td>\n",
              "      <td>NaN</td>\n",
              "      <td>NaN</td>\n",
              "      <td>NaN</td>\n",
              "      <td>NaN</td>\n",
              "      <td>NaN</td>\n",
              "      <td>NaN</td>\n",
              "      <td>NaN</td>\n",
              "      <td>NaN</td>\n",
              "      <td>3.310026e+08</td>\n",
              "      <td>35.608</td>\n",
              "      <td>38.3</td>\n",
              "      <td>15.413</td>\n",
              "      <td>9.732</td>\n",
              "      <td>54225.446</td>\n",
              "      <td>1.2</td>\n",
              "      <td>151.089</td>\n",
              "      <td>10.79</td>\n",
              "      <td>19.100</td>\n",
              "      <td>24.600</td>\n",
              "      <td>NaN</td>\n",
              "      <td>2.770</td>\n",
              "      <td>78.86</td>\n",
              "    </tr>\n",
              "    <tr>\n",
              "      <th>3628</th>\n",
              "      <td>BRA</td>\n",
              "      <td>South America</td>\n",
              "      <td>Brazil</td>\n",
              "      <td>2020-06-28</td>\n",
              "      <td>1313667.0</td>\n",
              "      <td>38693.0</td>\n",
              "      <td>57070.0</td>\n",
              "      <td>1109.0</td>\n",
              "      <td>6180.235</td>\n",
              "      <td>182.034</td>\n",
              "      <td>268.490</td>\n",
              "      <td>5.217</td>\n",
              "      <td>NaN</td>\n",
              "      <td>NaN</td>\n",
              "      <td>NaN</td>\n",
              "      <td>NaN</td>\n",
              "      <td>NaN</td>\n",
              "      <td>NaN</td>\n",
              "      <td>NaN</td>\n",
              "      <td>NaN</td>\n",
              "      <td>2.125594e+08</td>\n",
              "      <td>25.040</td>\n",
              "      <td>33.5</td>\n",
              "      <td>8.552</td>\n",
              "      <td>5.060</td>\n",
              "      <td>14103.452</td>\n",
              "      <td>3.4</td>\n",
              "      <td>177.961</td>\n",
              "      <td>8.11</td>\n",
              "      <td>10.100</td>\n",
              "      <td>17.900</td>\n",
              "      <td>NaN</td>\n",
              "      <td>2.200</td>\n",
              "      <td>75.88</td>\n",
              "    </tr>\n",
              "    <tr>\n",
              "      <th>20202</th>\n",
              "      <td>RUS</td>\n",
              "      <td>Europe</td>\n",
              "      <td>Russia</td>\n",
              "      <td>2020-06-28</td>\n",
              "      <td>627646.0</td>\n",
              "      <td>6852.0</td>\n",
              "      <td>8969.0</td>\n",
              "      <td>188.0</td>\n",
              "      <td>4300.876</td>\n",
              "      <td>46.953</td>\n",
              "      <td>61.459</td>\n",
              "      <td>1.288</td>\n",
              "      <td>19044954.0</td>\n",
              "      <td>337008.0</td>\n",
              "      <td>130.503</td>\n",
              "      <td>2.309</td>\n",
              "      <td>292357.0</td>\n",
              "      <td>2.003</td>\n",
              "      <td>tests performed</td>\n",
              "      <td>NaN</td>\n",
              "      <td>1.459345e+08</td>\n",
              "      <td>8.823</td>\n",
              "      <td>39.6</td>\n",
              "      <td>14.178</td>\n",
              "      <td>9.393</td>\n",
              "      <td>24765.954</td>\n",
              "      <td>0.1</td>\n",
              "      <td>431.297</td>\n",
              "      <td>6.18</td>\n",
              "      <td>23.400</td>\n",
              "      <td>58.300</td>\n",
              "      <td>NaN</td>\n",
              "      <td>8.050</td>\n",
              "      <td>72.58</td>\n",
              "    </tr>\n",
              "    <tr>\n",
              "      <th>11303</th>\n",
              "      <td>IND</td>\n",
              "      <td>Asia</td>\n",
              "      <td>India</td>\n",
              "      <td>2020-06-28</td>\n",
              "      <td>528859.0</td>\n",
              "      <td>19906.0</td>\n",
              "      <td>16095.0</td>\n",
              "      <td>410.0</td>\n",
              "      <td>383.230</td>\n",
              "      <td>14.425</td>\n",
              "      <td>11.663</td>\n",
              "      <td>0.297</td>\n",
              "      <td>8227802.0</td>\n",
              "      <td>231095.0</td>\n",
              "      <td>5.962</td>\n",
              "      <td>0.167</td>\n",
              "      <td>202939.0</td>\n",
              "      <td>0.147</td>\n",
              "      <td>samples tested</td>\n",
              "      <td>NaN</td>\n",
              "      <td>1.380004e+09</td>\n",
              "      <td>450.419</td>\n",
              "      <td>28.2</td>\n",
              "      <td>5.989</td>\n",
              "      <td>3.414</td>\n",
              "      <td>6426.674</td>\n",
              "      <td>21.2</td>\n",
              "      <td>282.280</td>\n",
              "      <td>10.39</td>\n",
              "      <td>1.900</td>\n",
              "      <td>20.600</td>\n",
              "      <td>59.55</td>\n",
              "      <td>0.530</td>\n",
              "      <td>69.66</td>\n",
              "    </tr>\n",
              "    <tr>\n",
              "      <th>25277</th>\n",
              "      <td>GBR</td>\n",
              "      <td>Europe</td>\n",
              "      <td>United Kingdom</td>\n",
              "      <td>2020-06-28</td>\n",
              "      <td>310250.0</td>\n",
              "      <td>890.0</td>\n",
              "      <td>43514.0</td>\n",
              "      <td>100.0</td>\n",
              "      <td>4570.161</td>\n",
              "      <td>13.110</td>\n",
              "      <td>640.986</td>\n",
              "      <td>1.473</td>\n",
              "      <td>NaN</td>\n",
              "      <td>NaN</td>\n",
              "      <td>NaN</td>\n",
              "      <td>NaN</td>\n",
              "      <td>NaN</td>\n",
              "      <td>NaN</td>\n",
              "      <td>NaN</td>\n",
              "      <td>NaN</td>\n",
              "      <td>6.788600e+07</td>\n",
              "      <td>272.898</td>\n",
              "      <td>40.8</td>\n",
              "      <td>18.517</td>\n",
              "      <td>12.527</td>\n",
              "      <td>39753.244</td>\n",
              "      <td>0.2</td>\n",
              "      <td>122.137</td>\n",
              "      <td>4.28</td>\n",
              "      <td>20.000</td>\n",
              "      <td>24.700</td>\n",
              "      <td>NaN</td>\n",
              "      <td>2.540</td>\n",
              "      <td>81.32</td>\n",
              "    </tr>\n",
              "  </tbody>\n",
              "</table>\n",
              "</div>"
            ],
            "text/plain": [
              "       iso_code      continent  ... hospital_beds_per_thousand life_expectancy\n",
              "26684  OWID_WRL            NaN  ...                      2.705           72.58\n",
              "25458       USA  North America  ...                      2.770           78.86\n",
              "3628        BRA  South America  ...                      2.200           75.88\n",
              "20202       RUS         Europe  ...                      8.050           72.58\n",
              "11303       IND           Asia  ...                      0.530           69.66\n",
              "25277       GBR         Europe  ...                      2.540           81.32\n",
              "\n",
              "[6 rows x 34 columns]"
            ]
          },
          "metadata": {
            "tags": []
          },
          "execution_count": 152
        }
      ]
    },
    {
      "cell_type": "code",
      "metadata": {
        "id": "_fLm7JIE8XON",
        "colab_type": "code",
        "colab": {
          "base_uri": "https://localhost:8080/",
          "height": 35
        },
        "outputId": "e7283072-4aea-4094-d900-d0a2b39df66e"
      },
      "source": [
        "str(date.today())"
      ],
      "execution_count": null,
      "outputs": [
        {
          "output_type": "execute_result",
          "data": {
            "application/vnd.google.colaboratory.intrinsic": {
              "type": "string"
            },
            "text/plain": [
              "'2020-06-28'"
            ]
          },
          "metadata": {
            "tags": []
          },
          "execution_count": 153
        }
      ]
    },
    {
      "cell_type": "code",
      "metadata": {
        "id": "6USPOxQgyjFA",
        "colab_type": "code",
        "colab": {
          "base_uri": "https://localhost:8080/",
          "height": 347
        },
        "outputId": "933c74b4-7a70-45a4-ed28-0f3b9039df36"
      },
      "source": [
        "df.loc[df.date == str(date.today())].sort_values(by='total_deaths', ascending=False)[0:6]"
      ],
      "execution_count": null,
      "outputs": [
        {
          "output_type": "execute_result",
          "data": {
            "text/html": [
              "<div>\n",
              "<style scoped>\n",
              "    .dataframe tbody tr th:only-of-type {\n",
              "        vertical-align: middle;\n",
              "    }\n",
              "\n",
              "    .dataframe tbody tr th {\n",
              "        vertical-align: top;\n",
              "    }\n",
              "\n",
              "    .dataframe thead th {\n",
              "        text-align: right;\n",
              "    }\n",
              "</style>\n",
              "<table border=\"1\" class=\"dataframe\">\n",
              "  <thead>\n",
              "    <tr style=\"text-align: right;\">\n",
              "      <th></th>\n",
              "      <th>iso_code</th>\n",
              "      <th>continent</th>\n",
              "      <th>location</th>\n",
              "      <th>date</th>\n",
              "      <th>total_cases</th>\n",
              "      <th>new_cases</th>\n",
              "      <th>total_deaths</th>\n",
              "      <th>new_deaths</th>\n",
              "      <th>total_cases_per_million</th>\n",
              "      <th>new_cases_per_million</th>\n",
              "      <th>total_deaths_per_million</th>\n",
              "      <th>new_deaths_per_million</th>\n",
              "      <th>total_tests</th>\n",
              "      <th>new_tests</th>\n",
              "      <th>total_tests_per_thousand</th>\n",
              "      <th>new_tests_per_thousand</th>\n",
              "      <th>new_tests_smoothed</th>\n",
              "      <th>new_tests_smoothed_per_thousand</th>\n",
              "      <th>tests_units</th>\n",
              "      <th>stringency_index</th>\n",
              "      <th>population</th>\n",
              "      <th>population_density</th>\n",
              "      <th>median_age</th>\n",
              "      <th>aged_65_older</th>\n",
              "      <th>aged_70_older</th>\n",
              "      <th>gdp_per_capita</th>\n",
              "      <th>extreme_poverty</th>\n",
              "      <th>cvd_death_rate</th>\n",
              "      <th>diabetes_prevalence</th>\n",
              "      <th>female_smokers</th>\n",
              "      <th>male_smokers</th>\n",
              "      <th>handwashing_facilities</th>\n",
              "      <th>hospital_beds_per_thousand</th>\n",
              "      <th>life_expectancy</th>\n",
              "    </tr>\n",
              "  </thead>\n",
              "  <tbody>\n",
              "    <tr>\n",
              "      <th>26684</th>\n",
              "      <td>OWID_WRL</td>\n",
              "      <td>NaN</td>\n",
              "      <td>World</td>\n",
              "      <td>2020-06-28</td>\n",
              "      <td>9952507.0</td>\n",
              "      <td>180989.0</td>\n",
              "      <td>498519.0</td>\n",
              "      <td>4623.0</td>\n",
              "      <td>1276.814</td>\n",
              "      <td>23.219</td>\n",
              "      <td>63.955</td>\n",
              "      <td>0.593</td>\n",
              "      <td>NaN</td>\n",
              "      <td>NaN</td>\n",
              "      <td>NaN</td>\n",
              "      <td>NaN</td>\n",
              "      <td>NaN</td>\n",
              "      <td>NaN</td>\n",
              "      <td>NaN</td>\n",
              "      <td>NaN</td>\n",
              "      <td>7.794799e+09</td>\n",
              "      <td>58.045</td>\n",
              "      <td>30.9</td>\n",
              "      <td>8.696</td>\n",
              "      <td>5.355</td>\n",
              "      <td>15469.207</td>\n",
              "      <td>10.0</td>\n",
              "      <td>233.070</td>\n",
              "      <td>8.51</td>\n",
              "      <td>6.434</td>\n",
              "      <td>34.635</td>\n",
              "      <td>60.13</td>\n",
              "      <td>2.705</td>\n",
              "      <td>72.58</td>\n",
              "    </tr>\n",
              "    <tr>\n",
              "      <th>25458</th>\n",
              "      <td>USA</td>\n",
              "      <td>North America</td>\n",
              "      <td>United States</td>\n",
              "      <td>2020-06-28</td>\n",
              "      <td>2510323.0</td>\n",
              "      <td>42486.0</td>\n",
              "      <td>125539.0</td>\n",
              "      <td>500.0</td>\n",
              "      <td>7583.997</td>\n",
              "      <td>128.355</td>\n",
              "      <td>379.269</td>\n",
              "      <td>1.511</td>\n",
              "      <td>NaN</td>\n",
              "      <td>NaN</td>\n",
              "      <td>NaN</td>\n",
              "      <td>NaN</td>\n",
              "      <td>NaN</td>\n",
              "      <td>NaN</td>\n",
              "      <td>NaN</td>\n",
              "      <td>NaN</td>\n",
              "      <td>3.310026e+08</td>\n",
              "      <td>35.608</td>\n",
              "      <td>38.3</td>\n",
              "      <td>15.413</td>\n",
              "      <td>9.732</td>\n",
              "      <td>54225.446</td>\n",
              "      <td>1.2</td>\n",
              "      <td>151.089</td>\n",
              "      <td>10.79</td>\n",
              "      <td>19.100</td>\n",
              "      <td>24.600</td>\n",
              "      <td>NaN</td>\n",
              "      <td>2.770</td>\n",
              "      <td>78.86</td>\n",
              "    </tr>\n",
              "    <tr>\n",
              "      <th>3628</th>\n",
              "      <td>BRA</td>\n",
              "      <td>South America</td>\n",
              "      <td>Brazil</td>\n",
              "      <td>2020-06-28</td>\n",
              "      <td>1313667.0</td>\n",
              "      <td>38693.0</td>\n",
              "      <td>57070.0</td>\n",
              "      <td>1109.0</td>\n",
              "      <td>6180.235</td>\n",
              "      <td>182.034</td>\n",
              "      <td>268.490</td>\n",
              "      <td>5.217</td>\n",
              "      <td>NaN</td>\n",
              "      <td>NaN</td>\n",
              "      <td>NaN</td>\n",
              "      <td>NaN</td>\n",
              "      <td>NaN</td>\n",
              "      <td>NaN</td>\n",
              "      <td>NaN</td>\n",
              "      <td>NaN</td>\n",
              "      <td>2.125594e+08</td>\n",
              "      <td>25.040</td>\n",
              "      <td>33.5</td>\n",
              "      <td>8.552</td>\n",
              "      <td>5.060</td>\n",
              "      <td>14103.452</td>\n",
              "      <td>3.4</td>\n",
              "      <td>177.961</td>\n",
              "      <td>8.11</td>\n",
              "      <td>10.100</td>\n",
              "      <td>17.900</td>\n",
              "      <td>NaN</td>\n",
              "      <td>2.200</td>\n",
              "      <td>75.88</td>\n",
              "    </tr>\n",
              "    <tr>\n",
              "      <th>25277</th>\n",
              "      <td>GBR</td>\n",
              "      <td>Europe</td>\n",
              "      <td>United Kingdom</td>\n",
              "      <td>2020-06-28</td>\n",
              "      <td>310250.0</td>\n",
              "      <td>890.0</td>\n",
              "      <td>43514.0</td>\n",
              "      <td>100.0</td>\n",
              "      <td>4570.161</td>\n",
              "      <td>13.110</td>\n",
              "      <td>640.986</td>\n",
              "      <td>1.473</td>\n",
              "      <td>NaN</td>\n",
              "      <td>NaN</td>\n",
              "      <td>NaN</td>\n",
              "      <td>NaN</td>\n",
              "      <td>NaN</td>\n",
              "      <td>NaN</td>\n",
              "      <td>NaN</td>\n",
              "      <td>NaN</td>\n",
              "      <td>6.788600e+07</td>\n",
              "      <td>272.898</td>\n",
              "      <td>40.8</td>\n",
              "      <td>18.517</td>\n",
              "      <td>12.527</td>\n",
              "      <td>39753.244</td>\n",
              "      <td>0.2</td>\n",
              "      <td>122.137</td>\n",
              "      <td>4.28</td>\n",
              "      <td>20.000</td>\n",
              "      <td>24.700</td>\n",
              "      <td>NaN</td>\n",
              "      <td>2.540</td>\n",
              "      <td>81.32</td>\n",
              "    </tr>\n",
              "    <tr>\n",
              "      <th>12479</th>\n",
              "      <td>ITA</td>\n",
              "      <td>Europe</td>\n",
              "      <td>Italy</td>\n",
              "      <td>2020-06-28</td>\n",
              "      <td>240136.0</td>\n",
              "      <td>175.0</td>\n",
              "      <td>34716.0</td>\n",
              "      <td>8.0</td>\n",
              "      <td>3971.696</td>\n",
              "      <td>2.894</td>\n",
              "      <td>574.180</td>\n",
              "      <td>0.132</td>\n",
              "      <td>5314619.0</td>\n",
              "      <td>37346.0</td>\n",
              "      <td>87.9</td>\n",
              "      <td>0.618</td>\n",
              "      <td>47178.0</td>\n",
              "      <td>0.78</td>\n",
              "      <td>tests performed</td>\n",
              "      <td>NaN</td>\n",
              "      <td>6.046183e+07</td>\n",
              "      <td>205.859</td>\n",
              "      <td>47.9</td>\n",
              "      <td>23.021</td>\n",
              "      <td>16.240</td>\n",
              "      <td>35220.084</td>\n",
              "      <td>2.0</td>\n",
              "      <td>113.151</td>\n",
              "      <td>4.78</td>\n",
              "      <td>19.800</td>\n",
              "      <td>27.800</td>\n",
              "      <td>NaN</td>\n",
              "      <td>3.180</td>\n",
              "      <td>83.51</td>\n",
              "    </tr>\n",
              "    <tr>\n",
              "      <th>8737</th>\n",
              "      <td>FRA</td>\n",
              "      <td>Europe</td>\n",
              "      <td>France</td>\n",
              "      <td>2020-06-28</td>\n",
              "      <td>162936.0</td>\n",
              "      <td>0.0</td>\n",
              "      <td>29778.0</td>\n",
              "      <td>0.0</td>\n",
              "      <td>2496.204</td>\n",
              "      <td>0.000</td>\n",
              "      <td>456.203</td>\n",
              "      <td>0.000</td>\n",
              "      <td>NaN</td>\n",
              "      <td>NaN</td>\n",
              "      <td>NaN</td>\n",
              "      <td>NaN</td>\n",
              "      <td>NaN</td>\n",
              "      <td>NaN</td>\n",
              "      <td>NaN</td>\n",
              "      <td>NaN</td>\n",
              "      <td>6.527351e+07</td>\n",
              "      <td>122.578</td>\n",
              "      <td>42.0</td>\n",
              "      <td>19.718</td>\n",
              "      <td>13.079</td>\n",
              "      <td>38605.671</td>\n",
              "      <td>NaN</td>\n",
              "      <td>86.060</td>\n",
              "      <td>4.77</td>\n",
              "      <td>30.100</td>\n",
              "      <td>35.600</td>\n",
              "      <td>NaN</td>\n",
              "      <td>5.980</td>\n",
              "      <td>82.66</td>\n",
              "    </tr>\n",
              "  </tbody>\n",
              "</table>\n",
              "</div>"
            ],
            "text/plain": [
              "       iso_code      continent  ... hospital_beds_per_thousand life_expectancy\n",
              "26684  OWID_WRL            NaN  ...                      2.705           72.58\n",
              "25458       USA  North America  ...                      2.770           78.86\n",
              "3628        BRA  South America  ...                      2.200           75.88\n",
              "25277       GBR         Europe  ...                      2.540           81.32\n",
              "12479       ITA         Europe  ...                      3.180           83.51\n",
              "8737        FRA         Europe  ...                      5.980           82.66\n",
              "\n",
              "[6 rows x 34 columns]"
            ]
          },
          "metadata": {
            "tags": []
          },
          "execution_count": 154
        }
      ]
    },
    {
      "cell_type": "markdown",
      "metadata": {
        "id": "FeFJAu9ewC7b",
        "colab_type": "text"
      },
      "source": [
        "Podemos ver que o nosso *dataset* possui uma linha com o valor **Mundo**. Como ela não nos interessa, não a usaremos em nossa análise. "
      ]
    },
    {
      "cell_type": "code",
      "metadata": {
        "id": "164g0vC3wPLr",
        "colab_type": "code",
        "colab": {
          "base_uri": "https://localhost:8080/",
          "height": 441
        },
        "outputId": "1c5feaf4-572f-471b-c40f-39dc994b9d40"
      },
      "source": [
        "df_tot_cases = df.loc[df.date == str(date.today())].sort_values(by='total_cases', ascending=False)[1:6]\n",
        "fig, (ax , ax1) = plt.subplots(nrows=1,ncols=2, figsize=(15,6))\n",
        "\n",
        "sns.barplot(df_tot_cases.location,df_tot_cases.total_cases,ax=ax,)\n",
        "ax.set_title('Países Com Maior Número de Casos')\n",
        "\n",
        "df_tot_deaths = df.loc[df.date == str(date.today())].sort_values(by='total_deaths', ascending=False)[1:6]\n",
        "\n",
        "sns.barplot(df_tot_deaths.location,df_tot_deaths.total_deaths,ax=ax1)\n",
        "\n",
        "ax1.set_title('Países Com Maior Número de Mortes')\n",
        "\n",
        "\n",
        "fig.tight_layout()"
      ],
      "execution_count": null,
      "outputs": [
        {
          "output_type": "display_data",
          "data": {
            "image/png": "[encoded data removed]",
            "text/plain": [
              "<Figure size 1080x432 with 2 Axes>"
            ]
          },
          "metadata": {
            "tags": [],
            "needs_background": "light"
          }
        }
      ]
    },
    {
      "cell_type": "markdown",
      "metadata": {
        "id": "vnI_xmnrRsug",
        "colab_type": "text"
      },
      "source": [
        "Uma das métricas mais importantes para entender como a pandemia está se comportando é saber a evolução do número de novos casos e novas mortes por dia.\n",
        "\n",
        "Vamos fazer essa análise para os memos países listados acima."
      ]
    },
    {
      "cell_type": "code",
      "metadata": {
        "id": "sGBovqKwCVQt",
        "colab_type": "code",
        "colab": {
          "base_uri": "https://localhost:8080/",
          "height": 296
        },
        "outputId": "c2493070-8251-4d87-e65f-b04542400222"
      },
      "source": [
        "fig, (ax,ax1) = plt.subplots(nrows=1,ncols=2,figsize=(10,4))\n",
        "\n",
        "lt = df_tot_cases.location.unique()\n",
        "\n",
        "for x in lt:\n",
        "  df_country = df.loc[df.location == x].sort_values(by='date')\n",
        "  df_country = df_country[df_country.new_cases>0]\n",
        "  ax.plot(np.arange(df_country.shape[0]),df_country.new_cases,label=x)\n",
        "  \n",
        "\n",
        "ax.set_yscale('log')\n",
        "ax.legend()\n",
        "ax.set_title('Novos Casos Confirmados por Dia')\n",
        "ax.set_xlabel(\"Dias\")\n",
        "ax.set_ylabel('Casos')\n",
        "fig.tight_layout()\n",
        "\n",
        "lt = df_tot_deaths.location.unique()\n",
        "\n",
        "for x in lt:\n",
        "  df_country = df.loc[df.location == x].sort_values(by='date')\n",
        "  df_country = df_country[df_country.new_deaths>0]\n",
        "  ax1.plot(np.arange(df_country.shape[0]),df_country.new_deaths,label=x)\n",
        "\n",
        "ax1.set_yscale('log')\n",
        "ax1.legend()\n",
        "ax1.set_title('Novas Mortes Confirmadas por Dia')\n",
        "ax1.set_xlabel(\"Dias\")\n",
        "ax1.set_ylabel('Mortes')\n",
        "fig.tight_layout()\n"
      ],
      "execution_count": null,
      "outputs": [
        {
          "output_type": "display_data",
          "data": {
            "image/png": "[encoded data removed]",
            "text/plain": [
              "<Figure size 720x288 with 2 Axes>"
            ]
          },
          "metadata": {
            "tags": [],
            "needs_background": "light"
          }
        }
      ]
    },
    {
      "cell_type": "markdown",
      "metadata": {
        "id": "KyRQvIe3EhpI",
        "colab_type": "text"
      },
      "source": [
        "Vamos verificar também a taxa de mortalidade para os cinco países com o maior número de mortes."
      ]
    },
    {
      "cell_type": "code",
      "metadata": {
        "id": "OeEL-t5lE_eQ",
        "colab_type": "code",
        "colab": {
          "base_uri": "https://localhost:8080/",
          "height": 296
        },
        "outputId": "3f198d08-e554-4078-c1f0-fe8a3f833938"
      },
      "source": [
        "fig, ax = plt.subplots()\n",
        "sns.barplot(x=df_tot_deaths.location,y= (df_tot_deaths.total_deaths / df_tot_deaths.total_cases)*100, ax=ax,\n",
        "            order = ['France','Italy','United Kingdom','United States','Brazil'])\n",
        "ax.set_title('Taxa de Mortalidade')\n",
        "ax.set_ylabel('Em %')\n",
        "fig.tight_layout()"
      ],
      "execution_count": null,
      "outputs": [
        {
          "output_type": "display_data",
          "data": {
            "image/png": "[encoded data removed]",
            "text/plain": [
              "<Figure size 432x288 with 1 Axes>"
            ]
          },
          "metadata": {
            "tags": [],
            "needs_background": "light"
          }
        }
      ]
    },
    {
      "cell_type": "markdown",
      "metadata": {
        "id": "JD1GgjMHXxMe",
        "colab_type": "text"
      },
      "source": [
        "Vamos mostrar a taxa de mortalidade mundial agora para que possamos comparar."
      ]
    },
    {
      "cell_type": "code",
      "metadata": {
        "id": "4klteEVlJmn9",
        "colab_type": "code",
        "colab": {
          "base_uri": "https://localhost:8080/",
          "height": 34
        },
        "outputId": "7793a308-e9a4-42c7-e41c-093b88490be8"
      },
      "source": [
        "df_world = df[df.location == 'World']\n",
        "df_world = df_world[df_world.date == str(date.today())]\n",
        "\n",
        "print('A taxa mundial de mortalidade da COVID-19 é {}%'.format(round(float(df_world.total_deaths/df_world.total_cases),2)*100))\n"
      ],
      "execution_count": null,
      "outputs": [
        {
          "output_type": "stream",
          "text": [
            "A taxa mundial de mortalidade da COVID-19 é 5.0%\n"
          ],
          "name": "stdout"
        }
      ]
    },
    {
      "cell_type": "markdown",
      "metadata": {
        "id": "vrAXCm2bYHkt",
        "colab_type": "text"
      },
      "source": [
        "Para finalizar nossa análise para o cenário internacional, vamos verificar agora como é dada a evolução dos casos e óbitos no mundo devido à COVID-19."
      ]
    },
    {
      "cell_type": "code",
      "metadata": {
        "id": "PFdfwnwb_Up-",
        "colab_type": "code",
        "colab": {
          "base_uri": "https://localhost:8080/",
          "height": 296
        },
        "outputId": "44451ee8-91d3-4dff-c8b8-f568225b2b6e"
      },
      "source": [
        "fig, ax = plt.subplots()\n",
        "df_world = df.loc[df.location == 'World'].sort_values(by='date')\n",
        "\n",
        "ax.plot(np.arange(df_world.shape[0]),df_world.total_cases,label='Casos')\n",
        "ax.plot(np.arange(df_world.shape[0]),df_world.total_deaths,label='Mortes')\n",
        "ax.set_title('Evolução do Número de Casos e Mortes no Mundo')\n",
        "ax.set_yscale('log')\n",
        "ax.set_xlabel('Dias')\n",
        "ax.set_ylabel('Ocorrências')\n",
        "ax.legend()\n",
        "\n",
        "fig.tight_layout()"
      ],
      "execution_count": null,
      "outputs": [
        {
          "output_type": "display_data",
          "data": {
            "image/png": "[encoded data removed]",
            "text/plain": [
              "<Figure size 432x288 with 1 Axes>"
            ]
          },
          "metadata": {
            "tags": [],
            "needs_background": "light"
          }
        }
      ]
    },
    {
      "cell_type": "markdown",
      "metadata": {
        "id": "SViA5VZ7DYLA",
        "colab_type": "text"
      },
      "source": [
        "Vamos analisar agora alguns dados sobre o Brasil. \n",
        "\n",
        "Primeiramente vamos seleciona apenas os dados do Brasil e visualizar as 5 primeiras entradas."
      ]
    },
    {
      "cell_type": "code",
      "metadata": {
        "id": "UDQA502_hAwI",
        "colab_type": "code",
        "colab": {}
      },
      "source": [
        "df_brasil = df[df.location == 'Brazil'].sort_values(by='date', ascending=False).copy()"
      ],
      "execution_count": null,
      "outputs": []
    },
    {
      "cell_type": "code",
      "metadata": {
        "id": "QMLdW-Vm4G4R",
        "colab_type": "code",
        "colab": {
          "base_uri": "https://localhost:8080/",
          "height": 301
        },
        "outputId": "4cfccfa8-2755-403f-e4a7-124f37fe830b"
      },
      "source": [
        "df_brasil.head()"
      ],
      "execution_count": null,
      "outputs": [
        {
          "output_type": "execute_result",
          "data": {
            "text/html": [
              "<div>\n",
              "<style scoped>\n",
              "    .dataframe tbody tr th:only-of-type {\n",
              "        vertical-align: middle;\n",
              "    }\n",
              "\n",
              "    .dataframe tbody tr th {\n",
              "        vertical-align: top;\n",
              "    }\n",
              "\n",
              "    .dataframe thead th {\n",
              "        text-align: right;\n",
              "    }\n",
              "</style>\n",
              "<table border=\"1\" class=\"dataframe\">\n",
              "  <thead>\n",
              "    <tr style=\"text-align: right;\">\n",
              "      <th></th>\n",
              "      <th>iso_code</th>\n",
              "      <th>continent</th>\n",
              "      <th>location</th>\n",
              "      <th>date</th>\n",
              "      <th>total_cases</th>\n",
              "      <th>new_cases</th>\n",
              "      <th>total_deaths</th>\n",
              "      <th>new_deaths</th>\n",
              "      <th>total_cases_per_million</th>\n",
              "      <th>new_cases_per_million</th>\n",
              "      <th>total_deaths_per_million</th>\n",
              "      <th>new_deaths_per_million</th>\n",
              "      <th>total_tests</th>\n",
              "      <th>new_tests</th>\n",
              "      <th>total_tests_per_thousand</th>\n",
              "      <th>new_tests_per_thousand</th>\n",
              "      <th>new_tests_smoothed</th>\n",
              "      <th>new_tests_smoothed_per_thousand</th>\n",
              "      <th>tests_units</th>\n",
              "      <th>stringency_index</th>\n",
              "      <th>population</th>\n",
              "      <th>population_density</th>\n",
              "      <th>median_age</th>\n",
              "      <th>aged_65_older</th>\n",
              "      <th>aged_70_older</th>\n",
              "      <th>gdp_per_capita</th>\n",
              "      <th>extreme_poverty</th>\n",
              "      <th>cvd_death_rate</th>\n",
              "      <th>diabetes_prevalence</th>\n",
              "      <th>female_smokers</th>\n",
              "      <th>male_smokers</th>\n",
              "      <th>handwashing_facilities</th>\n",
              "      <th>hospital_beds_per_thousand</th>\n",
              "      <th>life_expectancy</th>\n",
              "    </tr>\n",
              "  </thead>\n",
              "  <tbody>\n",
              "    <tr>\n",
              "      <th>3628</th>\n",
              "      <td>BRA</td>\n",
              "      <td>South America</td>\n",
              "      <td>Brazil</td>\n",
              "      <td>2020-06-28</td>\n",
              "      <td>1313667.0</td>\n",
              "      <td>38693.0</td>\n",
              "      <td>57070.0</td>\n",
              "      <td>1109.0</td>\n",
              "      <td>6180.235</td>\n",
              "      <td>182.034</td>\n",
              "      <td>268.490</td>\n",
              "      <td>5.217</td>\n",
              "      <td>NaN</td>\n",
              "      <td>NaN</td>\n",
              "      <td>NaN</td>\n",
              "      <td>NaN</td>\n",
              "      <td>NaN</td>\n",
              "      <td>NaN</td>\n",
              "      <td>NaN</td>\n",
              "      <td>NaN</td>\n",
              "      <td>212559409.0</td>\n",
              "      <td>25.04</td>\n",
              "      <td>33.5</td>\n",
              "      <td>8.552</td>\n",
              "      <td>5.06</td>\n",
              "      <td>14103.452</td>\n",
              "      <td>3.4</td>\n",
              "      <td>177.961</td>\n",
              "      <td>8.11</td>\n",
              "      <td>10.1</td>\n",
              "      <td>17.9</td>\n",
              "      <td>NaN</td>\n",
              "      <td>2.2</td>\n",
              "      <td>75.88</td>\n",
              "    </tr>\n",
              "    <tr>\n",
              "      <th>3627</th>\n",
              "      <td>BRA</td>\n",
              "      <td>South America</td>\n",
              "      <td>Brazil</td>\n",
              "      <td>2020-06-27</td>\n",
              "      <td>1274974.0</td>\n",
              "      <td>46860.0</td>\n",
              "      <td>55961.0</td>\n",
              "      <td>990.0</td>\n",
              "      <td>5998.201</td>\n",
              "      <td>220.456</td>\n",
              "      <td>263.272</td>\n",
              "      <td>4.658</td>\n",
              "      <td>NaN</td>\n",
              "      <td>NaN</td>\n",
              "      <td>NaN</td>\n",
              "      <td>NaN</td>\n",
              "      <td>NaN</td>\n",
              "      <td>NaN</td>\n",
              "      <td>NaN</td>\n",
              "      <td>NaN</td>\n",
              "      <td>212559409.0</td>\n",
              "      <td>25.04</td>\n",
              "      <td>33.5</td>\n",
              "      <td>8.552</td>\n",
              "      <td>5.06</td>\n",
              "      <td>14103.452</td>\n",
              "      <td>3.4</td>\n",
              "      <td>177.961</td>\n",
              "      <td>8.11</td>\n",
              "      <td>10.1</td>\n",
              "      <td>17.9</td>\n",
              "      <td>NaN</td>\n",
              "      <td>2.2</td>\n",
              "      <td>75.88</td>\n",
              "    </tr>\n",
              "    <tr>\n",
              "      <th>3626</th>\n",
              "      <td>BRA</td>\n",
              "      <td>South America</td>\n",
              "      <td>Brazil</td>\n",
              "      <td>2020-06-26</td>\n",
              "      <td>1228114.0</td>\n",
              "      <td>39483.0</td>\n",
              "      <td>54971.0</td>\n",
              "      <td>1141.0</td>\n",
              "      <td>5777.745</td>\n",
              "      <td>185.750</td>\n",
              "      <td>258.615</td>\n",
              "      <td>5.368</td>\n",
              "      <td>NaN</td>\n",
              "      <td>NaN</td>\n",
              "      <td>NaN</td>\n",
              "      <td>NaN</td>\n",
              "      <td>NaN</td>\n",
              "      <td>NaN</td>\n",
              "      <td>NaN</td>\n",
              "      <td>NaN</td>\n",
              "      <td>212559409.0</td>\n",
              "      <td>25.04</td>\n",
              "      <td>33.5</td>\n",
              "      <td>8.552</td>\n",
              "      <td>5.06</td>\n",
              "      <td>14103.452</td>\n",
              "      <td>3.4</td>\n",
              "      <td>177.961</td>\n",
              "      <td>8.11</td>\n",
              "      <td>10.1</td>\n",
              "      <td>17.9</td>\n",
              "      <td>NaN</td>\n",
              "      <td>2.2</td>\n",
              "      <td>75.88</td>\n",
              "    </tr>\n",
              "    <tr>\n",
              "      <th>3625</th>\n",
              "      <td>BRA</td>\n",
              "      <td>South America</td>\n",
              "      <td>Brazil</td>\n",
              "      <td>2020-06-25</td>\n",
              "      <td>1188631.0</td>\n",
              "      <td>42725.0</td>\n",
              "      <td>53830.0</td>\n",
              "      <td>1185.0</td>\n",
              "      <td>5591.994</td>\n",
              "      <td>201.003</td>\n",
              "      <td>253.247</td>\n",
              "      <td>5.575</td>\n",
              "      <td>NaN</td>\n",
              "      <td>NaN</td>\n",
              "      <td>NaN</td>\n",
              "      <td>NaN</td>\n",
              "      <td>NaN</td>\n",
              "      <td>NaN</td>\n",
              "      <td>NaN</td>\n",
              "      <td>NaN</td>\n",
              "      <td>212559409.0</td>\n",
              "      <td>25.04</td>\n",
              "      <td>33.5</td>\n",
              "      <td>8.552</td>\n",
              "      <td>5.06</td>\n",
              "      <td>14103.452</td>\n",
              "      <td>3.4</td>\n",
              "      <td>177.961</td>\n",
              "      <td>8.11</td>\n",
              "      <td>10.1</td>\n",
              "      <td>17.9</td>\n",
              "      <td>NaN</td>\n",
              "      <td>2.2</td>\n",
              "      <td>75.88</td>\n",
              "    </tr>\n",
              "    <tr>\n",
              "      <th>3624</th>\n",
              "      <td>BRA</td>\n",
              "      <td>South America</td>\n",
              "      <td>Brazil</td>\n",
              "      <td>2020-06-24</td>\n",
              "      <td>1145906.0</td>\n",
              "      <td>39436.0</td>\n",
              "      <td>52645.0</td>\n",
              "      <td>1374.0</td>\n",
              "      <td>5390.992</td>\n",
              "      <td>185.529</td>\n",
              "      <td>247.672</td>\n",
              "      <td>6.464</td>\n",
              "      <td>NaN</td>\n",
              "      <td>NaN</td>\n",
              "      <td>NaN</td>\n",
              "      <td>NaN</td>\n",
              "      <td>NaN</td>\n",
              "      <td>NaN</td>\n",
              "      <td>NaN</td>\n",
              "      <td>NaN</td>\n",
              "      <td>212559409.0</td>\n",
              "      <td>25.04</td>\n",
              "      <td>33.5</td>\n",
              "      <td>8.552</td>\n",
              "      <td>5.06</td>\n",
              "      <td>14103.452</td>\n",
              "      <td>3.4</td>\n",
              "      <td>177.961</td>\n",
              "      <td>8.11</td>\n",
              "      <td>10.1</td>\n",
              "      <td>17.9</td>\n",
              "      <td>NaN</td>\n",
              "      <td>2.2</td>\n",
              "      <td>75.88</td>\n",
              "    </tr>\n",
              "  </tbody>\n",
              "</table>\n",
              "</div>"
            ],
            "text/plain": [
              "     iso_code      continent  ... hospital_beds_per_thousand life_expectancy\n",
              "3628      BRA  South America  ...                        2.2           75.88\n",
              "3627      BRA  South America  ...                        2.2           75.88\n",
              "3626      BRA  South America  ...                        2.2           75.88\n",
              "3625      BRA  South America  ...                        2.2           75.88\n",
              "3624      BRA  South America  ...                        2.2           75.88\n",
              "\n",
              "[5 rows x 34 columns]"
            ]
          },
          "metadata": {
            "tags": []
          },
          "execution_count": 161
        }
      ]
    },
    {
      "cell_type": "markdown",
      "metadata": {
        "id": "ChirKd3B9q8e",
        "colab_type": "text"
      },
      "source": [
        "Vamos descobrir quando foi o primeiro caso e a primeira morte no Brasil.\n"
      ]
    },
    {
      "cell_type": "code",
      "metadata": {
        "id": "OAkh8CsW95mR",
        "colab_type": "code",
        "colab": {
          "base_uri": "https://localhost:8080/",
          "height": 70
        },
        "outputId": "b9440069-b144-4d93-dc1b-f34117fb11f1"
      },
      "source": [
        "primeiro_caso = df_brasil[df_brasil.total_cases > 0].sort_values(by='date').head(1).date\n",
        "print(\"O primeiro caso no Brasil foi registrado no dia {}\\n\".format(primeiro_caso.values[0]))\n",
        "\n",
        "primeira_morte = df_brasil[df_brasil.total_deaths >0].sort_values(by='date').head(1).date\n",
        "print(\"A primeira morte no Brasil foi registrada no dia {}\".format(primeira_morte.values[0]))\n"
      ],
      "execution_count": null,
      "outputs": [
        {
          "output_type": "stream",
          "text": [
            "O primeiro caso no Brasil foi registrado no dia 2020-02-26T00:00:00.000000000\n",
            "\n",
            "A primeira morte no Brasil foi registrada no dia 2020-03-18T00:00:00.000000000\n"
          ],
          "name": "stdout"
        }
      ]
    },
    {
      "cell_type": "markdown",
      "metadata": {
        "id": "LCsiXvM3BcsO",
        "colab_type": "text"
      },
      "source": [
        "## Conclusão\n",
        "\n",
        "Em nossa breve análise foi possivel ver como se da a evolução da COVID-19 no Brasil e no mundo. É importante destacar-mos que os dados estão sujeitos a subnotificações em diversos países por diversos fatores tal como política, limitação financeira para realizar testes, logistica e etc. Entretando mesmo com essa limitação foi possível entender o comportamento da covid-19 e o caminho que a doença está tomando em alguns países."
      ]
    }
  ]
}