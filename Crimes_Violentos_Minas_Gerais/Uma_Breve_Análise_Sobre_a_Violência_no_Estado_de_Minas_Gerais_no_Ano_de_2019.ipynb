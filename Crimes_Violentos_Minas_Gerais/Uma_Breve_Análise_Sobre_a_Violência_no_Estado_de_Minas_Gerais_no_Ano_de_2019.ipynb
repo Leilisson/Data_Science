{
  "nbformat": 4,
  "nbformat_minor": 0,
  "metadata": {
    "colab": {
      "name": "Uma Breve Análise Sobre a Violência no Estado de Minas Gerais no Ano de 2019.ipynb",
      "provenance": [],
      "collapsed_sections": [],
      "toc_visible": true
    },
    "kernelspec": {
      "name": "python3",
      "display_name": "Python 3"
    }
  },
  "cells": [
    {
      "cell_type": "markdown",
      "metadata": {
        "id": "kLI0gJtzDGuQ",
        "colab_type": "text"
      },
      "source": [
        "# Uma Breve Análise Sobre a Violência no Estado de Minas Gerais no Ano de 2019\n",
        "\n",
        "É um fato de conhecimento comum que o crime atinge o Brasil em sua totalidade. \n",
        "\n",
        "Atualmente a lei de acesso à informação e a conscientização dos orgão públicos, proporciona a disponibilização de diversas fontes de dados.\n",
        "\n",
        "A Secretaria de Segurança Pública do Estado de Minas Gerais disponibiliza diversos dados sobre violência através do próprio portal neste [link](http://www.seguranca.mg.gov.br/2018-08-22-13-39-06/dados-abertos). \n",
        "\n",
        "Neste projeto nós vamos fazer uma breve análise e tirar algumas conclusões sobre o crime no estado de Minas Gerais em 2019.\n",
        "\n",
        "\n"
      ]
    },
    {
      "cell_type": "markdown",
      "metadata": {
        "id": "0zxQHhIUDF_2",
        "colab_type": "text"
      },
      "source": [
        "## Obtenção dos Dados\n",
        "\n",
        "Os dados foram obtidos diretamente do portal da Secretaria de Segurança Pública do Estado de Minas Gerais onde possui diversos dados abertos sobre a violência no estado. \n",
        "\n",
        "Utilizaremos uma base de dados da criminalidade violenta nos 853 municípios do estado de Minas Gerais tendo como fonte o Observatório de Segurança Pública (Sejusp).\n",
        "\n",
        "A base de dados utilizada neste trabalho pode ser baixada diretamente deste [link](http://www.seguranca.mg.gov.br/images/2020/Junho/Banco%20Crimes%20Violentos%20Armazm%20-%20Atualizado%20Maio%202020.csv). \n",
        "\n"
      ]
    },
    {
      "cell_type": "markdown",
      "metadata": {
        "id": "7vh4at0l90nr",
        "colab_type": "text"
      },
      "source": [
        "### Importando os Dados\n",
        "\n"
      ]
    },
    {
      "cell_type": "code",
      "metadata": {
        "id": "CYLNme_OCX_R",
        "colab_type": "code",
        "colab": {}
      },
      "source": [
        "import pandas as pd\n",
        "import numpy as np\n",
        "import matplotlib.pyplot as plt\n",
        "\n",
        "\n",
        "df = pd.read_csv(\"https://raw.githubusercontent.com/Leilisson/Data_Science/master/Violent_Crimes_Minas_Gerais/CrimesMG.csv\",encoding = \"cp1252\", sep=\";\")"
      ],
      "execution_count": 9,
      "outputs": []
    },
    {
      "cell_type": "markdown",
      "metadata": {
        "id": "qb5By2nIMS6m",
        "colab_type": "text"
      },
      "source": [
        "## Análise Inicial dos Dados\n",
        "\n",
        "Antes de iniciarmos a exploração dos dados, é preciso obter algumas informações a respeito do nosso dataset, tal como dimensão, as variáveis existentes e o tipo de dado de cada variável.\n",
        "\n"
      ]
    },
    {
      "cell_type": "code",
      "metadata": {
        "id": "zct5Ewfp1Lhj",
        "colab_type": "code",
        "colab": {
          "base_uri": "https://localhost:8080/",
          "height": 34
        },
        "outputId": "d9de6a38-6c1a-480d-c8e0-fd1c2bdb0622"
      },
      "source": [
        "df.shape #Checar dimensões"
      ],
      "execution_count": 10,
      "outputs": [
        {
          "output_type": "execute_result",
          "data": {
            "text/plain": [
              "(321578, 9)"
            ]
          },
          "metadata": {
            "tags": []
          },
          "execution_count": 10
        }
      ]
    },
    {
      "cell_type": "code",
      "metadata": {
        "id": "7RJuzXaZ1wLy",
        "colab_type": "code",
        "colab": {
          "base_uri": "https://localhost:8080/",
          "height": 70
        },
        "outputId": "c2e430b9-54a6-432c-d142-016f144cabf2"
      },
      "source": [
        "df.columns #Nome das Variáveis. "
      ],
      "execution_count": 11,
      "outputs": [
        {
          "output_type": "execute_result",
          "data": {
            "text/plain": [
              "Index(['Registros', 'Natureza', 'Município', 'Cod IBGE', 'Mês ', 'Ano', 'RISP',\n",
              "       'RISP Nova', 'RMBH'],\n",
              "      dtype='object')"
            ]
          },
          "metadata": {
            "tags": []
          },
          "execution_count": 11
        }
      ]
    },
    {
      "cell_type": "code",
      "metadata": {
        "id": "SJxOxnYH1ysG",
        "colab_type": "code",
        "colab": {
          "base_uri": "https://localhost:8080/",
          "height": 301
        },
        "outputId": "28ddc41e-0d71-4e15-98ba-2a7e1b47f4bf"
      },
      "source": [
        "df.info() #Tipo dos dados "
      ],
      "execution_count": 12,
      "outputs": [
        {
          "output_type": "stream",
          "text": [
            "<class 'pandas.core.frame.DataFrame'>\n",
            "RangeIndex: 321578 entries, 0 to 321577\n",
            "Data columns (total 9 columns):\n",
            " #   Column     Non-Null Count   Dtype \n",
            "---  ------     --------------   ----- \n",
            " 0   Registros  321578 non-null  int64 \n",
            " 1   Natureza   321578 non-null  object\n",
            " 2   Município  321578 non-null  object\n",
            " 3   Cod IBGE   321578 non-null  int64 \n",
            " 4   Mês        321578 non-null  int64 \n",
            " 5   Ano        321578 non-null  int64 \n",
            " 6   RISP       321578 non-null  int64 \n",
            " 7   RISP Nova  321578 non-null  int64 \n",
            " 8   RMBH       321578 non-null  object\n",
            "dtypes: int64(6), object(3)\n",
            "memory usage: 22.1+ MB\n"
          ],
          "name": "stdout"
        }
      ]
    },
    {
      "cell_type": "markdown",
      "metadata": {
        "id": "VLw6ovuL173D",
        "colab_type": "text"
      },
      "source": [
        "Vamos ver agora as primeiras entradas do nosso dataset. "
      ]
    },
    {
      "cell_type": "code",
      "metadata": {
        "id": "d3Wn-9qj8Qw-",
        "colab_type": "code",
        "colab": {
          "base_uri": "https://localhost:8080/",
          "height": 197
        },
        "outputId": "db23b810-415e-4c90-bf61-1f8441119a87"
      },
      "source": [
        "df.head()"
      ],
      "execution_count": 13,
      "outputs": [
        {
          "output_type": "execute_result",
          "data": {
            "text/html": [
              "<div>\n",
              "<style scoped>\n",
              "    .dataframe tbody tr th:only-of-type {\n",
              "        vertical-align: middle;\n",
              "    }\n",
              "\n",
              "    .dataframe tbody tr th {\n",
              "        vertical-align: top;\n",
              "    }\n",
              "\n",
              "    .dataframe thead th {\n",
              "        text-align: right;\n",
              "    }\n",
              "</style>\n",
              "<table border=\"1\" class=\"dataframe\">\n",
              "  <thead>\n",
              "    <tr style=\"text-align: right;\">\n",
              "      <th></th>\n",
              "      <th>Registros</th>\n",
              "      <th>Natureza</th>\n",
              "      <th>Município</th>\n",
              "      <th>Cod IBGE</th>\n",
              "      <th>Mês</th>\n",
              "      <th>Ano</th>\n",
              "      <th>RISP</th>\n",
              "      <th>RISP Nova</th>\n",
              "      <th>RMBH</th>\n",
              "    </tr>\n",
              "  </thead>\n",
              "  <tbody>\n",
              "    <tr>\n",
              "      <th>0</th>\n",
              "      <td>0</td>\n",
              "      <td>Estupro Consumado</td>\n",
              "      <td>ABADIA DOS DOURADOS</td>\n",
              "      <td>310010</td>\n",
              "      <td>1</td>\n",
              "      <td>2018</td>\n",
              "      <td>10</td>\n",
              "      <td>10</td>\n",
              "      <td>NÃO</td>\n",
              "    </tr>\n",
              "    <tr>\n",
              "      <th>1</th>\n",
              "      <td>0</td>\n",
              "      <td>Estupro Consumado</td>\n",
              "      <td>ABAETE</td>\n",
              "      <td>310020</td>\n",
              "      <td>1</td>\n",
              "      <td>2018</td>\n",
              "      <td>7</td>\n",
              "      <td>7</td>\n",
              "      <td>NÃO</td>\n",
              "    </tr>\n",
              "    <tr>\n",
              "      <th>2</th>\n",
              "      <td>0</td>\n",
              "      <td>Estupro Consumado</td>\n",
              "      <td>ABRE-CAMPO</td>\n",
              "      <td>310030</td>\n",
              "      <td>1</td>\n",
              "      <td>2018</td>\n",
              "      <td>12</td>\n",
              "      <td>12</td>\n",
              "      <td>NÃO</td>\n",
              "    </tr>\n",
              "    <tr>\n",
              "      <th>3</th>\n",
              "      <td>0</td>\n",
              "      <td>Estupro Consumado</td>\n",
              "      <td>ACAIACA</td>\n",
              "      <td>310040</td>\n",
              "      <td>1</td>\n",
              "      <td>2018</td>\n",
              "      <td>12</td>\n",
              "      <td>12</td>\n",
              "      <td>NÃO</td>\n",
              "    </tr>\n",
              "    <tr>\n",
              "      <th>4</th>\n",
              "      <td>0</td>\n",
              "      <td>Estupro Consumado</td>\n",
              "      <td>ACUCENA</td>\n",
              "      <td>310050</td>\n",
              "      <td>1</td>\n",
              "      <td>2018</td>\n",
              "      <td>12</td>\n",
              "      <td>12</td>\n",
              "      <td>NÃO</td>\n",
              "    </tr>\n",
              "  </tbody>\n",
              "</table>\n",
              "</div>"
            ],
            "text/plain": [
              "   Registros           Natureza            Município  ...  RISP  RISP Nova  RMBH\n",
              "0          0  Estupro Consumado  ABADIA DOS DOURADOS  ...    10         10   NÃO\n",
              "1          0  Estupro Consumado               ABAETE  ...     7          7   NÃO\n",
              "2          0  Estupro Consumado           ABRE-CAMPO  ...    12         12   NÃO\n",
              "3          0  Estupro Consumado              ACAIACA  ...    12         12   NÃO\n",
              "4          0  Estupro Consumado              ACUCENA  ...    12         12   NÃO\n",
              "\n",
              "[5 rows x 9 columns]"
            ]
          },
          "metadata": {
            "tags": []
          },
          "execution_count": 13
        }
      ]
    },
    {
      "cell_type": "markdown",
      "metadata": {
        "id": "EmdNFu--U2TX",
        "colab_type": "text"
      },
      "source": [
        "## Pré-processando os Dados"
      ]
    },
    {
      "cell_type": "markdown",
      "metadata": {
        "id": "NfHctVcp4LlZ",
        "colab_type": "text"
      },
      "source": [
        "\n",
        "Nós estamos interessados somente nos dados do ano de 2019. Vamos ver então quais anos o nosso dataset abrange.\n"
      ]
    },
    {
      "cell_type": "code",
      "metadata": {
        "id": "P7bQQ8ZG5jTh",
        "colab_type": "code",
        "colab": {
          "base_uri": "https://localhost:8080/",
          "height": 34
        },
        "outputId": "a08abe19-f60d-4976-f332-24b5d91601a2"
      },
      "source": [
        "df.Ano.unique() # verificas valores únicos da coluna Ano. "
      ],
      "execution_count": 14,
      "outputs": [
        {
          "output_type": "execute_result",
          "data": {
            "text/plain": [
              "array([2018, 2019, 2020])"
            ]
          },
          "metadata": {
            "tags": []
          },
          "execution_count": 14
        }
      ]
    },
    {
      "cell_type": "code",
      "metadata": {
        "id": "3fapzwDy54vT",
        "colab_type": "code",
        "colab": {
          "base_uri": "https://localhost:8080/",
          "height": 34
        },
        "outputId": "4c471592-384f-49ee-9f5f-beb8150cf2c6"
      },
      "source": [
        "df_clean = df[df.Ano == 2019]  #Selecionando apenas o ano de 2019\n",
        "df_clean.Ano.unique()"
      ],
      "execution_count": 15,
      "outputs": [
        {
          "output_type": "execute_result",
          "data": {
            "text/plain": [
              "array([2019])"
            ]
          },
          "metadata": {
            "tags": []
          },
          "execution_count": 15
        }
      ]
    },
    {
      "cell_type": "markdown",
      "metadata": {
        "id": "XTSyfLBf8KFu",
        "colab_type": "text"
      },
      "source": [
        "Na nossa prévia acima das primeiras entradas do nosso dataset, podemos perceber que existem cidades que não possuem registro de certos crimes. Vamos remover essas entradas. \n"
      ]
    },
    {
      "cell_type": "code",
      "metadata": {
        "id": "j2lKUOCmHw3P",
        "colab_type": "code",
        "colab": {}
      },
      "source": [
        "df_clean = df_clean[df_clean.Registros != 0]; #removendo registros onde não foi computado nenhum crime\n"
      ],
      "execution_count": 16,
      "outputs": []
    },
    {
      "cell_type": "markdown",
      "metadata": {
        "id": "tlepE1vqT8Rj",
        "colab_type": "text"
      },
      "source": [
        "\n",
        "Vamos ver agora as dimensões e logo em seguida  as novas primeiras entradas. \n",
        "\n"
      ]
    },
    {
      "cell_type": "code",
      "metadata": {
        "id": "nTmko9t0T43E",
        "colab_type": "code",
        "colab": {
          "base_uri": "https://localhost:8080/",
          "height": 215
        },
        "outputId": "c518c177-5d62-4d62-9b07-60bdece3de34"
      },
      "source": [
        "print(df_clean.shape)\n",
        "df_clean.head()"
      ],
      "execution_count": 17,
      "outputs": [
        {
          "output_type": "stream",
          "text": [
            "(11565, 9)\n"
          ],
          "name": "stdout"
        },
        {
          "output_type": "execute_result",
          "data": {
            "text/html": [
              "<div>\n",
              "<style scoped>\n",
              "    .dataframe tbody tr th:only-of-type {\n",
              "        vertical-align: middle;\n",
              "    }\n",
              "\n",
              "    .dataframe tbody tr th {\n",
              "        vertical-align: top;\n",
              "    }\n",
              "\n",
              "    .dataframe thead th {\n",
              "        text-align: right;\n",
              "    }\n",
              "</style>\n",
              "<table border=\"1\" class=\"dataframe\">\n",
              "  <thead>\n",
              "    <tr style=\"text-align: right;\">\n",
              "      <th></th>\n",
              "      <th>Registros</th>\n",
              "      <th>Natureza</th>\n",
              "      <th>Município</th>\n",
              "      <th>Cod IBGE</th>\n",
              "      <th>Mês</th>\n",
              "      <th>Ano</th>\n",
              "      <th>RISP</th>\n",
              "      <th>RISP Nova</th>\n",
              "      <th>RMBH</th>\n",
              "    </tr>\n",
              "  </thead>\n",
              "  <tbody>\n",
              "    <tr>\n",
              "      <th>133077</th>\n",
              "      <td>1</td>\n",
              "      <td>Estupro Consumado</td>\n",
              "      <td>AGUAS VERMELHAS</td>\n",
              "      <td>310100</td>\n",
              "      <td>1</td>\n",
              "      <td>2019</td>\n",
              "      <td>15</td>\n",
              "      <td>15</td>\n",
              "      <td>NÃO</td>\n",
              "    </tr>\n",
              "    <tr>\n",
              "      <th>133096</th>\n",
              "      <td>1</td>\n",
              "      <td>Estupro Consumado</td>\n",
              "      <td>ANDRADAS</td>\n",
              "      <td>310260</td>\n",
              "      <td>1</td>\n",
              "      <td>2019</td>\n",
              "      <td>18</td>\n",
              "      <td>18</td>\n",
              "      <td>NÃO</td>\n",
              "    </tr>\n",
              "    <tr>\n",
              "      <th>133113</th>\n",
              "      <td>1</td>\n",
              "      <td>Estupro Consumado</td>\n",
              "      <td>ARCOS</td>\n",
              "      <td>310420</td>\n",
              "      <td>1</td>\n",
              "      <td>2019</td>\n",
              "      <td>7</td>\n",
              "      <td>7</td>\n",
              "      <td>NÃO</td>\n",
              "    </tr>\n",
              "    <tr>\n",
              "      <th>133126</th>\n",
              "      <td>1</td>\n",
              "      <td>Estupro Consumado</td>\n",
              "      <td>BARAO DE COCAIS</td>\n",
              "      <td>310540</td>\n",
              "      <td>1</td>\n",
              "      <td>2019</td>\n",
              "      <td>12</td>\n",
              "      <td>12</td>\n",
              "      <td>NÃO</td>\n",
              "    </tr>\n",
              "    <tr>\n",
              "      <th>133131</th>\n",
              "      <td>1</td>\n",
              "      <td>Estupro Consumado</td>\n",
              "      <td>BELA VISTA DE MINAS</td>\n",
              "      <td>310600</td>\n",
              "      <td>1</td>\n",
              "      <td>2019</td>\n",
              "      <td>12</td>\n",
              "      <td>12</td>\n",
              "      <td>NÃO</td>\n",
              "    </tr>\n",
              "  </tbody>\n",
              "</table>\n",
              "</div>"
            ],
            "text/plain": [
              "        Registros           Natureza            Município  ...  RISP  RISP Nova  RMBH\n",
              "133077          1  Estupro Consumado      AGUAS VERMELHAS  ...    15         15   NÃO\n",
              "133096          1  Estupro Consumado             ANDRADAS  ...    18         18   NÃO\n",
              "133113          1  Estupro Consumado                ARCOS  ...     7          7   NÃO\n",
              "133126          1  Estupro Consumado      BARAO DE COCAIS  ...    12         12   NÃO\n",
              "133131          1  Estupro Consumado  BELA VISTA DE MINAS  ...    12         12   NÃO\n",
              "\n",
              "[5 rows x 9 columns]"
            ]
          },
          "metadata": {
            "tags": []
          },
          "execution_count": 17
        }
      ]
    },
    {
      "cell_type": "markdown",
      "metadata": {
        "id": "G6dnsNYm-41g",
        "colab_type": "text"
      },
      "source": [
        "## Algumas Informações Estatísticas da Violência no Estado de Minas Gerais\n",
        "\n"
      ]
    },
    {
      "cell_type": "markdown",
      "metadata": {
        "id": "aaoyOxwCJMnP",
        "colab_type": "text"
      },
      "source": [
        "### Qual a quantidade de cada crime cometido?"
      ]
    },
    {
      "cell_type": "code",
      "metadata": {
        "id": "-GXENZkjJvHn",
        "colab_type": "code",
        "colab": {}
      },
      "source": [
        "list_of_crimes = df_clean.Natureza.unique()\n",
        "list_records = {\"Natureza\": [],\n",
        "                \"Quantidade\": []\n",
        "}\n",
        "for x in list_of_crimes:\n",
        "  number_records = df_clean[df_clean.Natureza == x].Registros.sum()\n",
        "  list_records['Natureza'].append(x)\n",
        "  list_records['Quantidade'].append(number_records)\n",
        "\n"
      ],
      "execution_count": 18,
      "outputs": []
    },
    {
      "cell_type": "code",
      "metadata": {
        "id": "9HXA2DZwNC7K",
        "colab_type": "code",
        "colab": {
          "base_uri": "https://localhost:8080/",
          "height": 467
        },
        "outputId": "ad8a60eb-99fd-4d8c-aa0e-1ebb9b1a95c8"
      },
      "source": [
        "df_nat = pd.DataFrame(list_records)\n",
        "df_nat.set_index('Natureza', inplace=True)\n",
        "df_nat.sort_values('Quantidade', ascending=False, inplace=True)\n",
        "df_nat"
      ],
      "execution_count": 19,
      "outputs": [
        {
          "output_type": "execute_result",
          "data": {
            "text/html": [
              "<div>\n",
              "<style scoped>\n",
              "    .dataframe tbody tr th:only-of-type {\n",
              "        vertical-align: middle;\n",
              "    }\n",
              "\n",
              "    .dataframe tbody tr th {\n",
              "        vertical-align: top;\n",
              "    }\n",
              "\n",
              "    .dataframe thead th {\n",
              "        text-align: right;\n",
              "    }\n",
              "</style>\n",
              "<table border=\"1\" class=\"dataframe\">\n",
              "  <thead>\n",
              "    <tr style=\"text-align: right;\">\n",
              "      <th></th>\n",
              "      <th>Quantidade</th>\n",
              "    </tr>\n",
              "    <tr>\n",
              "      <th>Natureza</th>\n",
              "      <th></th>\n",
              "    </tr>\n",
              "  </thead>\n",
              "  <tbody>\n",
              "    <tr>\n",
              "      <th>Roubo Consumado</th>\n",
              "      <td>54054</td>\n",
              "    </tr>\n",
              "    <tr>\n",
              "      <th>Roubo Tentado</th>\n",
              "      <td>3404</td>\n",
              "    </tr>\n",
              "    <tr>\n",
              "      <th>Estupro de Vulnerável Consumado</th>\n",
              "      <td>3163</td>\n",
              "    </tr>\n",
              "    <tr>\n",
              "      <th>Homicídio Tentado</th>\n",
              "      <td>2855</td>\n",
              "    </tr>\n",
              "    <tr>\n",
              "      <th>Homicídio Consumado (Registros)</th>\n",
              "      <td>2644</td>\n",
              "    </tr>\n",
              "    <tr>\n",
              "      <th>Estupro Consumado</th>\n",
              "      <td>1230</td>\n",
              "    </tr>\n",
              "    <tr>\n",
              "      <th>Extorsão Consumado</th>\n",
              "      <td>780</td>\n",
              "    </tr>\n",
              "    <tr>\n",
              "      <th>Sequestro e Cárcere Privado Consumado</th>\n",
              "      <td>248</td>\n",
              "    </tr>\n",
              "    <tr>\n",
              "      <th>Estupro Tentado</th>\n",
              "      <td>236</td>\n",
              "    </tr>\n",
              "    <tr>\n",
              "      <th>Extorsão Tentado</th>\n",
              "      <td>210</td>\n",
              "    </tr>\n",
              "    <tr>\n",
              "      <th>Estupro de Vulnerável Tentado</th>\n",
              "      <td>184</td>\n",
              "    </tr>\n",
              "    <tr>\n",
              "      <th>Extorsão Mediante Sequestro Consumado</th>\n",
              "      <td>78</td>\n",
              "    </tr>\n",
              "    <tr>\n",
              "      <th>Sequestro e Cárcere Privado Tentado</th>\n",
              "      <td>9</td>\n",
              "    </tr>\n",
              "  </tbody>\n",
              "</table>\n",
              "</div>"
            ],
            "text/plain": [
              "                                       Quantidade\n",
              "Natureza                                         \n",
              "Roubo Consumado                             54054\n",
              "Roubo Tentado                                3404\n",
              "Estupro de Vulnerável Consumado              3163\n",
              "Homicídio Tentado                            2855\n",
              "Homicídio Consumado (Registros)              2644\n",
              "Estupro Consumado                            1230\n",
              "Extorsão Consumado                            780\n",
              "Sequestro e Cárcere Privado Consumado         248\n",
              "Estupro Tentado                               236\n",
              "Extorsão Tentado                              210\n",
              "Estupro de Vulnerável Tentado                 184\n",
              "Extorsão Mediante Sequestro Consumado          78\n",
              "Sequestro e Cárcere Privado Tentado             9"
            ]
          },
          "metadata": {
            "tags": []
          },
          "execution_count": 19
        }
      ]
    },
    {
      "cell_type": "markdown",
      "metadata": {
        "id": "v-Jbtniigcrs",
        "colab_type": "text"
      },
      "source": [
        "###Qual a porcentagem de cada tipo de crime cometido?"
      ]
    },
    {
      "cell_type": "code",
      "metadata": {
        "id": "y1Jb1EPQff9b",
        "colab_type": "code",
        "colab": {
          "base_uri": "https://localhost:8080/",
          "height": 283
        },
        "outputId": "dbea087f-fbf6-42dd-81b3-9c532e1fd5f8"
      },
      "source": [
        "df_nat.Quantidade / df_clean.Registros.sum()"
      ],
      "execution_count": 20,
      "outputs": [
        {
          "output_type": "execute_result",
          "data": {
            "text/plain": [
              "Natureza\n",
              "Roubo Consumado                          0.782314\n",
              "Roubo Tentado                            0.049266\n",
              "Estupro de Vulnerável Consumado          0.045778\n",
              "Homicídio Tentado                        0.041320\n",
              "Homicídio Consumado (Registros)          0.038266\n",
              "Estupro Consumado                        0.017802\n",
              "Extorsão Consumado                       0.011289\n",
              "Sequestro e Cárcere Privado Consumado    0.003589\n",
              "Estupro Tentado                          0.003416\n",
              "Extorsão Tentado                         0.003039\n",
              "Estupro de Vulnerável Tentado            0.002663\n",
              "Extorsão Mediante Sequestro Consumado    0.001129\n",
              "Sequestro e Cárcere Privado Tentado      0.000130\n",
              "Name: Quantidade, dtype: float64"
            ]
          },
          "metadata": {
            "tags": []
          },
          "execution_count": 20
        }
      ]
    },
    {
      "cell_type": "markdown",
      "metadata": {
        "id": "u-6wpowEzacx",
        "colab_type": "text"
      },
      "source": [
        "###Quais cidades possuem a maior incidência de crimes?"
      ]
    },
    {
      "cell_type": "code",
      "metadata": {
        "id": "tGBicVLQzlZl",
        "colab_type": "code",
        "colab": {}
      },
      "source": [
        "list_city = df_clean.Município.unique()\n",
        "list_records = {\n",
        "    \"Município\" : [],\n",
        "    \"Qntde_Total_Crimes\": [],\n",
        "}\n",
        "for x in list_city:\n",
        "  num_records  = df_clean[df_clean.Município == x].Registros.sum()\n",
        "  list_records[\"Município\"].append(x)\n",
        "  list_records[\"Qntde_Total_Crimes\"].append(num_records)\n"
      ],
      "execution_count": 21,
      "outputs": []
    },
    {
      "cell_type": "code",
      "metadata": {
        "id": "4KjPbhCj15il",
        "colab_type": "code",
        "colab": {
          "base_uri": "https://localhost:8080/",
          "height": 227
        },
        "outputId": "0c896f74-9c51-49e9-e1cf-52d17811a5f9"
      },
      "source": [
        "df_tot_crimes = pd.DataFrame(list_records)\n",
        "df_tot_crimes.sort_values(\"Qntde_Total_Crimes\", ascending=False, inplace=True)\n",
        "df_tot_crimes.set_index('Município', inplace=True)\n",
        "df_tot_crimes.head()"
      ],
      "execution_count": 22,
      "outputs": [
        {
          "output_type": "execute_result",
          "data": {
            "text/html": [
              "<div>\n",
              "<style scoped>\n",
              "    .dataframe tbody tr th:only-of-type {\n",
              "        vertical-align: middle;\n",
              "    }\n",
              "\n",
              "    .dataframe tbody tr th {\n",
              "        vertical-align: top;\n",
              "    }\n",
              "\n",
              "    .dataframe thead th {\n",
              "        text-align: right;\n",
              "    }\n",
              "</style>\n",
              "<table border=\"1\" class=\"dataframe\">\n",
              "  <thead>\n",
              "    <tr style=\"text-align: right;\">\n",
              "      <th></th>\n",
              "      <th>Qntde_Total_Crimes</th>\n",
              "    </tr>\n",
              "    <tr>\n",
              "      <th>Município</th>\n",
              "      <th></th>\n",
              "    </tr>\n",
              "  </thead>\n",
              "  <tbody>\n",
              "    <tr>\n",
              "      <th>BELO HORIZONTE</th>\n",
              "      <td>19709</td>\n",
              "    </tr>\n",
              "    <tr>\n",
              "      <th>CONTAGEM</th>\n",
              "      <td>6940</td>\n",
              "    </tr>\n",
              "    <tr>\n",
              "      <th>UBERLANDIA</th>\n",
              "      <td>3357</td>\n",
              "    </tr>\n",
              "    <tr>\n",
              "      <th>BETIM</th>\n",
              "      <td>3334</td>\n",
              "    </tr>\n",
              "    <tr>\n",
              "      <th>RIBEIRAO DAS NEVES</th>\n",
              "      <td>1978</td>\n",
              "    </tr>\n",
              "  </tbody>\n",
              "</table>\n",
              "</div>"
            ],
            "text/plain": [
              "                    Qntde_Total_Crimes\n",
              "Município                             \n",
              "BELO HORIZONTE                   19709\n",
              "CONTAGEM                          6940\n",
              "UBERLANDIA                        3357\n",
              "BETIM                             3334\n",
              "RIBEIRAO DAS NEVES                1978"
            ]
          },
          "metadata": {
            "tags": []
          },
          "execution_count": 22
        }
      ]
    },
    {
      "cell_type": "code",
      "metadata": {
        "id": "TSEy0OoKCs9f",
        "colab_type": "code",
        "colab": {
          "base_uri": "https://localhost:8080/",
          "height": 461
        },
        "outputId": "6c8271df-01f0-4bb5-d190-68af92175f5c"
      },
      "source": [
        "figure = plt.figure(figsize = (14,5))\n",
        "plt.yticks(np.arange(0,20000,2000))\n",
        "plt.xticks(rotation=90)\n",
        "plt.title(\"Cidades com Maior Incidência de Crimes\")\n",
        "plt.plot(df_tot_crimes.head(50),);\n"
      ],
      "execution_count": 23,
      "outputs": [
        {
          "output_type": "display_data",
          "data": {
            "image/png": "[encoded data removed]",
            "text/plain": [
              "<Figure size 1008x360 with 1 Axes>"
            ]
          },
          "metadata": {
            "tags": [],
            "needs_background": "light"
          }
        }
      ]
    },
    {
      "cell_type": "markdown",
      "metadata": {
        "id": "3On4vq883lYD",
        "colab_type": "text"
      },
      "source": [
        "###Qual a porcentagem que as cidades acima representam no total de crimes?"
      ]
    },
    {
      "cell_type": "code",
      "metadata": {
        "id": "-SO2n3Dl30Fw",
        "colab_type": "code",
        "colab": {
          "base_uri": "https://localhost:8080/",
          "height": 941
        },
        "outputId": "2eed1ab5-0850-4441-e6e4-64fec0e28585"
      },
      "source": [
        "(df_tot_crimes.Qntde_Total_Crimes / df_clean.Registros.sum())[0:50]"
      ],
      "execution_count": 24,
      "outputs": [
        {
          "output_type": "execute_result",
          "data": {
            "text/plain": [
              "Município\n",
              "BELO HORIZONTE          0.285245\n",
              "CONTAGEM                0.100441\n",
              "UBERLANDIA              0.048585\n",
              "BETIM                   0.048252\n",
              "RIBEIRAO DAS NEVES      0.028627\n",
              "UBERABA                 0.024300\n",
              "JUIZ DE FORA            0.018149\n",
              "MONTES CLAROS           0.017584\n",
              "DIVINOPOLIS             0.017006\n",
              "SETE LAGOAS             0.016050\n",
              "NOVA SERRANA            0.012505\n",
              "SANTA LUZIA             0.012201\n",
              "GOVERNADOR VALADARES    0.011665\n",
              "IPATINGA                0.008322\n",
              "IBIRITE                 0.007468\n",
              "VESPASIANO              0.007410\n",
              "SABARA                  0.006976\n",
              "PARACATU                0.006194\n",
              "UBA                     0.005861\n",
              "PASSOS                  0.005702\n",
              "ITABIRA                 0.004429\n",
              "ITAUNA                  0.004385\n",
              "CURVELO                 0.004241\n",
              "PEDRO LEOPOLDO          0.004226\n",
              "MURIAE                  0.004154\n",
              "ESMERALDAS              0.003980\n",
              "POUSO ALEGRE            0.003893\n",
              "CORONEL FABRICIANO      0.003821\n",
              "ITUIUTABA               0.003792\n",
              "CONSELHEIRO LAFAIETE    0.003662\n",
              "NOVA LIMA               0.003662\n",
              "POCOS DE CALDAS         0.003589\n",
              "PATROCINIO              0.003546\n",
              "VARGINHA                0.003546\n",
              "IGARAPE                 0.003387\n",
              "PATOS DE MINAS          0.003343\n",
              "PARA DE MINAS           0.003213\n",
              "CARATINGA               0.003184\n",
              "JUATUBA                 0.003184\n",
              "VICOSA                  0.003155\n",
              "ARAGUARI                0.003083\n",
              "MANHUACU                0.003068\n",
              "TEOFILO OTONI           0.003025\n",
              "LAGOA SANTA             0.002967\n",
              "JOAO MONLEVADE          0.002808\n",
              "PIRAPORA                0.002793\n",
              "ALFENAS                 0.002764\n",
              "SAO JOAQUIM DE BICAS    0.002649\n",
              "JANAUBA                 0.002562\n",
              "TRES CORACOES           0.002504\n",
              "Name: Qntde_Total_Crimes, dtype: float64"
            ]
          },
          "metadata": {
            "tags": []
          },
          "execution_count": 24
        }
      ]
    },
    {
      "cell_type": "markdown",
      "metadata": {
        "id": "YWtTplzabUeB",
        "colab_type": "text"
      },
      "source": [
        "### Quais cidades possuem o maior número de *Estupros Consumados?*"
      ]
    },
    {
      "cell_type": "code",
      "metadata": {
        "id": "TH8ogLJJkzze",
        "colab_type": "code",
        "colab": {}
      },
      "source": [
        "def resumo_crimes(str_crimes):\n",
        "  df_aux = df_clean[df_clean.Natureza == str_crimes]\n",
        "  list_records = {\n",
        "      \"Municipio\" : [],\n",
        "      \"Quantidade\" : [],\n",
        "  }\n",
        "  list_city = df_aux.Município.unique()\n",
        "  for x in list_city:\n",
        "    list_records[\"Municipio\"].append(x)\n",
        "    list_records[\"Quantidade\"].append(df_aux[df_aux.Município == x].Registros.sum())\n",
        "\n",
        "  df_res = pd.DataFrame(list_records)\n",
        "  df_res = df_res.sort_values('Quantidade', ascending=False)\n",
        "  df_res.set_index('Municipio', inplace=True)\n",
        "  return df_res\n"
      ],
      "execution_count": 25,
      "outputs": []
    },
    {
      "cell_type": "code",
      "metadata": {
        "id": "5grIabqDEcLJ",
        "colab_type": "code",
        "colab": {
          "base_uri": "https://localhost:8080/",
          "height": 227
        },
        "outputId": "b8d3e642-c6dc-4d89-e434-ab1e2c6b4667"
      },
      "source": [
        "df_res = resumo_crimes('Estupro Consumado')\n",
        "df_res.head()"
      ],
      "execution_count": 26,
      "outputs": [
        {
          "output_type": "execute_result",
          "data": {
            "text/html": [
              "<div>\n",
              "<style scoped>\n",
              "    .dataframe tbody tr th:only-of-type {\n",
              "        vertical-align: middle;\n",
              "    }\n",
              "\n",
              "    .dataframe tbody tr th {\n",
              "        vertical-align: top;\n",
              "    }\n",
              "\n",
              "    .dataframe thead th {\n",
              "        text-align: right;\n",
              "    }\n",
              "</style>\n",
              "<table border=\"1\" class=\"dataframe\">\n",
              "  <thead>\n",
              "    <tr style=\"text-align: right;\">\n",
              "      <th></th>\n",
              "      <th>Quantidade</th>\n",
              "    </tr>\n",
              "    <tr>\n",
              "      <th>Municipio</th>\n",
              "      <th></th>\n",
              "    </tr>\n",
              "  </thead>\n",
              "  <tbody>\n",
              "    <tr>\n",
              "      <th>BELO HORIZONTE</th>\n",
              "      <td>218</td>\n",
              "    </tr>\n",
              "    <tr>\n",
              "      <th>CONTAGEM</th>\n",
              "      <td>67</td>\n",
              "    </tr>\n",
              "    <tr>\n",
              "      <th>RIBEIRAO DAS NEVES</th>\n",
              "      <td>36</td>\n",
              "    </tr>\n",
              "    <tr>\n",
              "      <th>UBERLANDIA</th>\n",
              "      <td>33</td>\n",
              "    </tr>\n",
              "    <tr>\n",
              "      <th>GOVERNADOR VALADARES</th>\n",
              "      <td>24</td>\n",
              "    </tr>\n",
              "  </tbody>\n",
              "</table>\n",
              "</div>"
            ],
            "text/plain": [
              "                      Quantidade\n",
              "Municipio                       \n",
              "BELO HORIZONTE               218\n",
              "CONTAGEM                      67\n",
              "RIBEIRAO DAS NEVES            36\n",
              "UBERLANDIA                    33\n",
              "GOVERNADOR VALADARES          24"
            ]
          },
          "metadata": {
            "tags": []
          },
          "execution_count": 26
        }
      ]
    },
    {
      "cell_type": "code",
      "metadata": {
        "id": "b_sxIso-Ektd",
        "colab_type": "code",
        "colab": {
          "base_uri": "https://localhost:8080/",
          "height": 470
        },
        "outputId": "16dcb2c3-f688-43f5-b0b9-329863c3e1b0"
      },
      "source": [
        "figure = plt.figure(figsize = (14,5))\n",
        "plt.yticks(np.arange(0,250,25))\n",
        "plt.xticks(rotation=90)\n",
        "plt.title(\"Estupros Consumados\")\n",
        "\n",
        "plt.plot(df_res.head(50),);"
      ],
      "execution_count": 27,
      "outputs": [
        {
          "output_type": "display_data",
          "data": {
            "image/png": "[encoded data removed]",
            "text/plain": [
              "<Figure size 1008x360 with 1 Axes>"
            ]
          },
          "metadata": {
            "tags": [],
            "needs_background": "light"
          }
        }
      ]
    },
    {
      "cell_type": "markdown",
      "metadata": {
        "id": "rgrY6gsJjuVs",
        "colab_type": "text"
      },
      "source": [
        "###Quais cidades possuem o maior número de *Homicídios Consumados*?"
      ]
    },
    {
      "cell_type": "code",
      "metadata": {
        "id": "fTjCbW5vxp6t",
        "colab_type": "code",
        "colab": {
          "base_uri": "https://localhost:8080/",
          "height": 227
        },
        "outputId": "b9ece110-abe9-4ac2-8b74-b2366c92c291"
      },
      "source": [
        "df_res = resumo_crimes('Homicídio Consumado (Registros)')\n",
        "df_res.head()"
      ],
      "execution_count": 28,
      "outputs": [
        {
          "output_type": "execute_result",
          "data": {
            "text/html": [
              "<div>\n",
              "<style scoped>\n",
              "    .dataframe tbody tr th:only-of-type {\n",
              "        vertical-align: middle;\n",
              "    }\n",
              "\n",
              "    .dataframe tbody tr th {\n",
              "        vertical-align: top;\n",
              "    }\n",
              "\n",
              "    .dataframe thead th {\n",
              "        text-align: right;\n",
              "    }\n",
              "</style>\n",
              "<table border=\"1\" class=\"dataframe\">\n",
              "  <thead>\n",
              "    <tr style=\"text-align: right;\">\n",
              "      <th></th>\n",
              "      <th>Quantidade</th>\n",
              "    </tr>\n",
              "    <tr>\n",
              "      <th>Municipio</th>\n",
              "      <th></th>\n",
              "    </tr>\n",
              "  </thead>\n",
              "  <tbody>\n",
              "    <tr>\n",
              "      <th>BELO HORIZONTE</th>\n",
              "      <td>354</td>\n",
              "    </tr>\n",
              "    <tr>\n",
              "      <th>CONTAGEM</th>\n",
              "      <td>112</td>\n",
              "    </tr>\n",
              "    <tr>\n",
              "      <th>BETIM</th>\n",
              "      <td>90</td>\n",
              "    </tr>\n",
              "    <tr>\n",
              "      <th>RIBEIRAO DAS NEVES</th>\n",
              "      <td>85</td>\n",
              "    </tr>\n",
              "    <tr>\n",
              "      <th>GOVERNADOR VALADARES</th>\n",
              "      <td>76</td>\n",
              "    </tr>\n",
              "  </tbody>\n",
              "</table>\n",
              "</div>"
            ],
            "text/plain": [
              "                      Quantidade\n",
              "Municipio                       \n",
              "BELO HORIZONTE               354\n",
              "CONTAGEM                     112\n",
              "BETIM                         90\n",
              "RIBEIRAO DAS NEVES            85\n",
              "GOVERNADOR VALADARES          76"
            ]
          },
          "metadata": {
            "tags": []
          },
          "execution_count": 28
        }
      ]
    },
    {
      "cell_type": "code",
      "metadata": {
        "id": "aMzo7IOSH2lY",
        "colab_type": "code",
        "colab": {
          "base_uri": "https://localhost:8080/",
          "height": 461
        },
        "outputId": "cfc348c8-ee63-41a5-92a7-a7a119a4fd94"
      },
      "source": [
        "figure = plt.figure(figsize = (14,5))\n",
        "plt.yticks(np.arange(0,375,25))\n",
        "plt.xticks(rotation=90)\n",
        "plt.title(\"Homicídios Consumados\")\n",
        "plt.plot(df_res.head(50),);"
      ],
      "execution_count": 29,
      "outputs": [
        {
          "output_type": "display_data",
          "data": {
            "image/png": "[encoded data removed]",
            "text/plain": [
              "<Figure size 1008x360 with 1 Axes>"
            ]
          },
          "metadata": {
            "tags": [],
            "needs_background": "light"
          }
        }
      ]
    },
    {
      "cell_type": "markdown",
      "metadata": {
        "id": "gCPqJ_TrxuQ4",
        "colab_type": "text"
      },
      "source": [
        "###Quais cidades possuem o maior número de *Estupro de Vulnerável Consumado?*"
      ]
    },
    {
      "cell_type": "code",
      "metadata": {
        "id": "bUXzeKo5yLb2",
        "colab_type": "code",
        "colab": {
          "base_uri": "https://localhost:8080/",
          "height": 377
        },
        "outputId": "d707d6f3-dd10-48e4-a0aa-dcf5ba8ce548"
      },
      "source": [
        "df_res = resumo_crimes('Estupro de Vulnerável Consumado')\n",
        "df_res.head(10)"
      ],
      "execution_count": 30,
      "outputs": [
        {
          "output_type": "execute_result",
          "data": {
            "text/html": [
              "<div>\n",
              "<style scoped>\n",
              "    .dataframe tbody tr th:only-of-type {\n",
              "        vertical-align: middle;\n",
              "    }\n",
              "\n",
              "    .dataframe tbody tr th {\n",
              "        vertical-align: top;\n",
              "    }\n",
              "\n",
              "    .dataframe thead th {\n",
              "        text-align: right;\n",
              "    }\n",
              "</style>\n",
              "<table border=\"1\" class=\"dataframe\">\n",
              "  <thead>\n",
              "    <tr style=\"text-align: right;\">\n",
              "      <th></th>\n",
              "      <th>Quantidade</th>\n",
              "    </tr>\n",
              "    <tr>\n",
              "      <th>Municipio</th>\n",
              "      <th></th>\n",
              "    </tr>\n",
              "  </thead>\n",
              "  <tbody>\n",
              "    <tr>\n",
              "      <th>BELO HORIZONTE</th>\n",
              "      <td>368</td>\n",
              "    </tr>\n",
              "    <tr>\n",
              "      <th>CONTAGEM</th>\n",
              "      <td>129</td>\n",
              "    </tr>\n",
              "    <tr>\n",
              "      <th>BETIM</th>\n",
              "      <td>78</td>\n",
              "    </tr>\n",
              "    <tr>\n",
              "      <th>UBERLANDIA</th>\n",
              "      <td>67</td>\n",
              "    </tr>\n",
              "    <tr>\n",
              "      <th>RIBEIRAO DAS NEVES</th>\n",
              "      <td>67</td>\n",
              "    </tr>\n",
              "    <tr>\n",
              "      <th>MONTES CLAROS</th>\n",
              "      <td>65</td>\n",
              "    </tr>\n",
              "    <tr>\n",
              "      <th>UBERABA</th>\n",
              "      <td>65</td>\n",
              "    </tr>\n",
              "    <tr>\n",
              "      <th>DIVINOPOLIS</th>\n",
              "      <td>62</td>\n",
              "    </tr>\n",
              "    <tr>\n",
              "      <th>GOVERNADOR VALADARES</th>\n",
              "      <td>60</td>\n",
              "    </tr>\n",
              "    <tr>\n",
              "      <th>SANTA LUZIA</th>\n",
              "      <td>44</td>\n",
              "    </tr>\n",
              "  </tbody>\n",
              "</table>\n",
              "</div>"
            ],
            "text/plain": [
              "                      Quantidade\n",
              "Municipio                       \n",
              "BELO HORIZONTE               368\n",
              "CONTAGEM                     129\n",
              "BETIM                         78\n",
              "UBERLANDIA                    67\n",
              "RIBEIRAO DAS NEVES            67\n",
              "MONTES CLAROS                 65\n",
              "UBERABA                       65\n",
              "DIVINOPOLIS                   62\n",
              "GOVERNADOR VALADARES          60\n",
              "SANTA LUZIA                   44"
            ]
          },
          "metadata": {
            "tags": []
          },
          "execution_count": 30
        }
      ]
    },
    {
      "cell_type": "code",
      "metadata": {
        "id": "lNckLRuOKdeX",
        "colab_type": "code",
        "colab": {
          "base_uri": "https://localhost:8080/",
          "height": 461
        },
        "outputId": "cc960029-9638-472a-abe6-07ea6a5835d3"
      },
      "source": [
        "figure = plt.figure(figsize = (14,5))\n",
        "plt.yticks(np.arange(0,375,25))\n",
        "plt.xticks(rotation=90)\n",
        "plt.title(\"Estupro de Vulnerável Consumado\")\n",
        "plt.plot(df_res.head(50),);"
      ],
      "execution_count": 31,
      "outputs": [
        {
          "output_type": "display_data",
          "data": {
            "image/png": "[encoded data removed]",
            "text/plain": [
              "<Figure size 1008x360 with 1 Axes>"
            ]
          },
          "metadata": {
            "tags": [],
            "needs_background": "light"
          }
        }
      ]
    },
    {
      "cell_type": "markdown",
      "metadata": {
        "id": "LCsiXvM3BcsO",
        "colab_type": "text"
      },
      "source": [
        "## Conclusão\n",
        "\n",
        "Com essa pequena análise podemos verificar que as cidades que fazem parde da grande Belo Horizonte possuíam no ano de 2019 a maior taxa de crimes graves com a excessão da cidade de Uberlândia no triângulo mineiro. "
      ]
    },
    {
      "cell_type": "code",
      "metadata": {
        "id": "eNjHfxMqWWoi",
        "colab_type": "code",
        "colab": {}
      },
      "source": [
        ""
      ],
      "execution_count": null,
      "outputs": []
    }
  ]
}